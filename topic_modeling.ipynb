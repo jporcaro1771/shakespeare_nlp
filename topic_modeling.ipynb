{
 "cells": [
  {
   "cell_type": "markdown",
   "metadata": {},
   "source": [
    "### **\"Love is the star to every wandering bark.\" - Will Shakespeare**"
   ]
  },
  {
   "cell_type": "code",
   "execution_count": 1,
   "metadata": {
    "ExecuteTime": {
     "end_time": "2019-08-20T19:03:44.411001Z",
     "start_time": "2019-08-20T19:03:44.403040Z"
    }
   },
   "outputs": [],
   "source": [
    "import numpy as np\n",
    "import pandas as pd\n",
    "import matplotlib.pyplot as plt\n",
    "\n",
    "from sklearn import datasets\n",
    "from sklearn.feature_extraction import text\n",
    "from sklearn.feature_extraction.text import CountVectorizer, TfidfVectorizer\n",
    "from sklearn.decomposition import TruncatedSVD, NMF\n",
    "from sklearn.metrics.pairwise import cosine_similarity\n",
    "\n",
    "from gensim import corpora, models, similarities, matutils\n",
    "from gensim.models import LsiModel\n",
    "from nltk.tokenize import RegexpTokenizer\n",
    "from nltk.corpus import stopwords\n",
    "from nltk.stem.porter import PorterStemmer\n",
    "from gensim.models.coherencemodel import CoherenceModel\n",
    "\n",
    "from textblob import TextBlob\n",
    "from wordcloud import WordCloud\n",
    "import pickle"
   ]
  },
  {
   "cell_type": "code",
   "execution_count": 2,
   "metadata": {
    "ExecuteTime": {
     "end_time": "2019-08-20T19:38:33.971675Z",
     "start_time": "2019-08-20T19:38:33.967888Z"
    }
   },
   "outputs": [],
   "source": [
    "with open('all_acts_1.pkl', 'rb') as f:\n",
    "    all_acts = pickle.load(f)"
   ]
  },
  {
   "cell_type": "code",
   "execution_count": 3,
   "metadata": {
    "ExecuteTime": {
     "end_time": "2019-08-20T20:48:47.958527Z",
     "start_time": "2019-08-20T20:48:47.946156Z"
    }
   },
   "outputs": [],
   "source": [
    "Shakespearean_stop_words = [\n",
    "     'thou', 'thy', 'shall', 'thee', 'come', 'enter', 'thine', 'art', \n",
    "     'ay', 'would', 'alas', 'dost', 'doth', 'ere', 'hast', 'tis', 'twas', \n",
    "     'wast', 'whence', 'wherefore', 'oft', 'yea', 'aught', 'yon', 'yonder', \n",
    "     'nay', 'hie', 'hither', 'good', 'haue', 'hath', 'lord', 'let', 'like', 'nurse',\n",
    "     'make', 'say', 'sir', 'lear', 'macb', 'theseus', 'banquo', 'rosalind', 'orlando', \n",
    "     'demetrius', 'celia', 'hamlet', 'jaques','anthonio', 'palamon', 'arcite', 'emilia', \n",
    "     'oliver', 'ariel', 'phebe', 'audrey', 'silvius', 'theobald', 'steevens', \n",
    "     'doe', 'loue', 'did', 'man', 'rowe', 'capell', 'shy', 'ham', 'th', 'know', \n",
    "     'ile', 'vs', 'ile', 'heere', 'giue', 'edg', 'ff', 'Enter', 'Serv.', 'Exeunt',\n",
    "     'PROLOGUE', 'tis', 'kent', 'edmund', 'vpon', 'oh', 'vp', 'ye', 'yes', 'perithous',\n",
    "     'bassanio', 'gloucester', 'edm', 'reg', 'gon', 'rom', 'jul', 'cap', 'ore', 'glou',\n",
    "     'gent'\n",
    "]\n",
    "\n",
    "union_stop_words = text.ENGLISH_STOP_WORDS.union(Shakespearean_stop_words)\n",
    "\n",
    "\n",
    "all_acts_text_list = []\n",
    "for i in range(len(all_acts)):\n",
    "    all_acts_text_list.append(all_acts[:][i]['Text'])\n"
   ]
  },
  {
   "cell_type": "code",
   "execution_count": 4,
   "metadata": {
    "ExecuteTime": {
     "end_time": "2019-08-20T20:48:49.769576Z",
     "start_time": "2019-08-20T20:48:49.766183Z"
    }
   },
   "outputs": [
    {
     "data": {
      "text/plain": [
       "100"
      ]
     },
     "execution_count": 4,
     "metadata": {},
     "output_type": "execute_result"
    }
   ],
   "source": [
    "len(Shakespearean_stop_words)"
   ]
  },
  {
   "cell_type": "markdown",
   "metadata": {},
   "source": [
    "# Vectorizing Words"
   ]
  },
  {
   "cell_type": "code",
   "execution_count": 5,
   "metadata": {
    "ExecuteTime": {
     "end_time": "2019-08-20T20:48:51.443092Z",
     "start_time": "2019-08-20T20:48:50.866172Z"
    }
   },
   "outputs": [
    {
     "name": "stderr",
     "output_type": "stream",
     "text": [
      "/Users/joelporcaro/anaconda3/envs/metis/lib/python3.6/site-packages/sklearn/feature_extraction/text.py:300: UserWarning: Your stop_words may be inconsistent with your preprocessing. Tokenizing the stop words generated tokens ['exeunt', 'prologue', 'serv'] not in stop_words.\n",
      "  'stop_words.' % sorted(inconsistent))\n"
     ]
    },
    {
     "data": {
      "text/plain": [
       "(42, 2419)"
      ]
     },
     "execution_count": 5,
     "metadata": {},
     "output_type": "execute_result"
    }
   ],
   "source": [
    "count_vectorizer = CountVectorizer(stop_words=union_stop_words, token_pattern=\"\\\\b[a-z][a-z]+\\\\b\", min_df=0.1, max_df=0.9, ngram_range=(1,2))\n",
    "count_vectorizer.fit(all_acts_text_list)\n",
    "doc_word = count_vectorizer.transform(all_acts_text_list)\n",
    "doc_word.shape\n",
    "\n",
    "# tfidf_vectorizer = TfidfVectorizer(stop_words=union_stop_words, \n",
    "#                                    token_pattern=\"\\\\b[a-z][a-z]+\\\\b\", \n",
    "#                                    min_df=0.1, \n",
    "#                                    max_df=0.9, \n",
    "#                                    ngram_range=(1,2))\n",
    "\n",
    "# tfidf_vectorizer.fit(all_acts_text_list)\n",
    "# doc_word = tfidf_vectorizer.transform(all_acts_text_list)\n",
    "# doc_word.shape"
   ]
  },
  {
   "cell_type": "code",
   "execution_count": 6,
   "metadata": {
    "ExecuteTime": {
     "end_time": "2019-08-20T20:48:53.443382Z",
     "start_time": "2019-08-20T20:48:53.441285Z"
    }
   },
   "outputs": [],
   "source": [
    "# doc_word = tfidf_vectorizer.transform(all_acts_text_list).transpose()"
   ]
  },
  {
   "cell_type": "code",
   "execution_count": 7,
   "metadata": {
    "ExecuteTime": {
     "end_time": "2019-08-20T20:48:53.620370Z",
     "start_time": "2019-08-20T20:48:53.614929Z"
    },
    "collapsed": true
   },
   "outputs": [
    {
     "ename": "NameError",
     "evalue": "name 'tfidf_vectorizer' is not defined",
     "output_type": "error",
     "traceback": [
      "\u001b[0;31m---------------------------------------------------------------------------\u001b[0m",
      "\u001b[0;31mNameError\u001b[0m                                 Traceback (most recent call last)",
      "\u001b[0;32m<ipython-input-7-690ff31cb6a0>\u001b[0m in \u001b[0;36m<module>\u001b[0;34m()\u001b[0m\n\u001b[1;32m      1\u001b[0m \u001b[0mcorpus\u001b[0m \u001b[0;34m=\u001b[0m \u001b[0mmatutils\u001b[0m\u001b[0;34m.\u001b[0m\u001b[0mSparse2Corpus\u001b[0m\u001b[0;34m(\u001b[0m\u001b[0mdoc_word\u001b[0m\u001b[0;34m)\u001b[0m\u001b[0;34m\u001b[0m\u001b[0;34m\u001b[0m\u001b[0m\n\u001b[1;32m      2\u001b[0m \u001b[0mid2word\u001b[0m \u001b[0;34m=\u001b[0m \u001b[0mdict\u001b[0m\u001b[0;34m(\u001b[0m\u001b[0;34m(\u001b[0m\u001b[0mv\u001b[0m\u001b[0;34m,\u001b[0m \u001b[0mk\u001b[0m\u001b[0;34m)\u001b[0m \u001b[0;32mfor\u001b[0m \u001b[0mk\u001b[0m\u001b[0;34m,\u001b[0m \u001b[0mv\u001b[0m \u001b[0;32min\u001b[0m \u001b[0mcount_vectorizer\u001b[0m\u001b[0;34m.\u001b[0m\u001b[0mvocabulary_\u001b[0m\u001b[0;34m.\u001b[0m\u001b[0mitems\u001b[0m\u001b[0;34m(\u001b[0m\u001b[0;34m)\u001b[0m\u001b[0;34m)\u001b[0m\u001b[0;34m\u001b[0m\u001b[0;34m\u001b[0m\u001b[0m\n\u001b[0;32m----> 3\u001b[0;31m \u001b[0mid2word\u001b[0m \u001b[0;34m=\u001b[0m \u001b[0mdict\u001b[0m\u001b[0;34m(\u001b[0m\u001b[0;34m(\u001b[0m\u001b[0mv\u001b[0m\u001b[0;34m,\u001b[0m \u001b[0mk\u001b[0m\u001b[0;34m)\u001b[0m \u001b[0;32mfor\u001b[0m \u001b[0mk\u001b[0m\u001b[0;34m,\u001b[0m \u001b[0mv\u001b[0m \u001b[0;32min\u001b[0m \u001b[0mtfidf_vectorizer\u001b[0m\u001b[0;34m.\u001b[0m\u001b[0mvocabulary_\u001b[0m\u001b[0;34m.\u001b[0m\u001b[0mitems\u001b[0m\u001b[0;34m(\u001b[0m\u001b[0;34m)\u001b[0m\u001b[0;34m)\u001b[0m\u001b[0;34m\u001b[0m\u001b[0;34m\u001b[0m\u001b[0m\n\u001b[0m\u001b[1;32m      4\u001b[0m \u001b[0;31m# len(id2word)\u001b[0m\u001b[0;34m\u001b[0m\u001b[0;34m\u001b[0m\u001b[0;34m\u001b[0m\u001b[0m\n",
      "\u001b[0;31mNameError\u001b[0m: name 'tfidf_vectorizer' is not defined"
     ]
    }
   ],
   "source": [
    "corpus = matutils.Sparse2Corpus(doc_word)\n",
    "id2word = dict((v, k) for k, v in count_vectorizer.vocabulary_.items())\n",
    "id2word = dict((v, k) for k, v in tfidf_vectorizer.vocabulary_.items())\n",
    "# len(id2word)"
   ]
  },
  {
   "cell_type": "code",
   "execution_count": null,
   "metadata": {},
   "outputs": [],
   "source": []
  },
  {
   "cell_type": "markdown",
   "metadata": {},
   "source": [
    "# Modeling"
   ]
  },
  {
   "cell_type": "markdown",
   "metadata": {},
   "source": [
    "## LDA - Latent Dirichlet Allocation"
   ]
  },
  {
   "cell_type": "code",
   "execution_count": 8,
   "metadata": {
    "ExecuteTime": {
     "end_time": "2019-08-20T20:30:56.174292Z",
     "start_time": "2019-08-20T20:30:48.386918Z"
    }
   },
   "outputs": [],
   "source": [
    "lda = models.LdaModel(corpus=corpus, num_topics=3, id2word=id2word, passes=10)"
   ]
  },
  {
   "cell_type": "code",
   "execution_count": 9,
   "metadata": {
    "ExecuteTime": {
     "end_time": "2019-08-20T20:30:57.291721Z",
     "start_time": "2019-08-20T20:30:57.287934Z"
    }
   },
   "outputs": [
    {
     "data": {
      "text/plain": [
       "[(0,\n",
       "  '0.214*\"absolute\" + 0.065*\"absent\" + 0.058*\"acquaintance\" + 0.053*\"acquaint\" + 0.047*\"alack\" + 0.043*\"aged\" + 0.042*\"air\" + 0.042*\"act\" + 0.042*\"afraid\" + 0.038*\"account\"'),\n",
       " (1,\n",
       "  '0.117*\"addition\" + 0.113*\"age\" + 0.090*\"actors\" + 0.079*\"afore\" + 0.079*\"advance\" + 0.078*\"againe\" + 0.067*\"afraid\" + 0.057*\"actions\" + 0.054*\"affliction\" + 0.051*\"adieu\"'),\n",
       " (2,\n",
       "  '0.072*\"aboue\" + 0.071*\"abusd\" + 0.067*\"accent\" + 0.066*\"abide\" + 0.060*\"albany\" + 0.060*\"abuses\" + 0.057*\"alacke\" + 0.057*\"able\" + 0.056*\"abuse\" + 0.045*\"adventure\"')]"
      ]
     },
     "execution_count": 9,
     "metadata": {},
     "output_type": "execute_result"
    }
   ],
   "source": [
    "lda.print_topics()"
   ]
  },
  {
   "cell_type": "code",
   "execution_count": 10,
   "metadata": {
    "ExecuteTime": {
     "end_time": "2019-08-20T20:30:37.909875Z",
     "start_time": "2019-08-20T20:30:37.906557Z"
    }
   },
   "outputs": [
    {
     "data": {
      "text/plain": [
       "(42, 2419)"
      ]
     },
     "execution_count": 10,
     "metadata": {},
     "output_type": "execute_result"
    }
   ],
   "source": [
    "doc_word.shape"
   ]
  },
  {
   "cell_type": "markdown",
   "metadata": {},
   "source": [
    "## LSA - Latent Semantic Analysis"
   ]
  },
  {
   "cell_type": "code",
   "execution_count": 11,
   "metadata": {
    "ExecuteTime": {
     "end_time": "2019-08-20T20:35:21.843239Z",
     "start_time": "2019-08-20T20:35:21.833655Z"
    }
   },
   "outputs": [
    {
     "data": {
      "text/plain": [
       "array([0.16994782, 0.1738173 , 0.07080634, 0.05547588])"
      ]
     },
     "execution_count": 11,
     "metadata": {},
     "output_type": "execute_result"
    }
   ],
   "source": [
    "lsa = TruncatedSVD(4)\n",
    "# doc_word = doc_word.transpose()\n",
    "doc_topic = lsa.fit_transform(doc_word)\n",
    "lsa.explained_variance_ratio_"
   ]
  },
  {
   "cell_type": "code",
   "execution_count": 12,
   "metadata": {
    "ExecuteTime": {
     "end_time": "2019-08-20T20:35:22.036541Z",
     "start_time": "2019-08-20T20:35:22.033252Z"
    }
   },
   "outputs": [
    {
     "data": {
      "text/plain": [
       "array([[ 0.00353342,  0.00394113,  0.00858981, ...,  0.00468819,\n",
       "         0.04696536,  0.0028253 ],\n",
       "       [ 0.00278868, -0.00335254,  0.01272863, ..., -0.01029808,\n",
       "         0.00115446, -0.00559834],\n",
       "       [-0.00726663, -0.00699743,  0.00224983, ...,  0.00467669,\n",
       "        -0.02226129, -0.00398512],\n",
       "       [-0.00342742, -0.00678239,  0.003126  , ..., -0.00237764,\n",
       "        -0.00406206,  0.00596629]])"
      ]
     },
     "execution_count": 12,
     "metadata": {},
     "output_type": "execute_result"
    }
   ],
   "source": [
    "lsa.components_"
   ]
  },
  {
   "cell_type": "code",
   "execution_count": 13,
   "metadata": {
    "ExecuteTime": {
     "end_time": "2019-08-20T20:35:22.441592Z",
     "start_time": "2019-08-20T20:35:22.421118Z"
    },
    "scrolled": true
   },
   "outputs": [
    {
     "data": {
      "text/html": [
       "<div>\n",
       "<style scoped>\n",
       "    .dataframe tbody tr th:only-of-type {\n",
       "        vertical-align: middle;\n",
       "    }\n",
       "\n",
       "    .dataframe tbody tr th {\n",
       "        vertical-align: top;\n",
       "    }\n",
       "\n",
       "    .dataframe thead th {\n",
       "        text-align: right;\n",
       "    }\n",
       "</style>\n",
       "<table border=\"1\" class=\"dataframe\">\n",
       "  <thead>\n",
       "    <tr style=\"text-align: right;\">\n",
       "      <th></th>\n",
       "      <th>abide</th>\n",
       "      <th>able</th>\n",
       "      <th>aboue</th>\n",
       "      <th>abroad</th>\n",
       "      <th>absence</th>\n",
       "      <th>absent</th>\n",
       "      <th>absolute</th>\n",
       "      <th>abusd</th>\n",
       "      <th>abuse</th>\n",
       "      <th>abuses</th>\n",
       "      <th>...</th>\n",
       "      <th>yesterday</th>\n",
       "      <th>yield</th>\n",
       "      <th>yond</th>\n",
       "      <th>yong</th>\n",
       "      <th>youl</th>\n",
       "      <th>youll</th>\n",
       "      <th>young</th>\n",
       "      <th>younger</th>\n",
       "      <th>youth</th>\n",
       "      <th>youthful</th>\n",
       "    </tr>\n",
       "  </thead>\n",
       "  <tbody>\n",
       "    <tr>\n",
       "      <th>component_1</th>\n",
       "      <td>0.00</td>\n",
       "      <td>0.00</td>\n",
       "      <td>0.01</td>\n",
       "      <td>0.01</td>\n",
       "      <td>0.0</td>\n",
       "      <td>0.0</td>\n",
       "      <td>0.0</td>\n",
       "      <td>0.01</td>\n",
       "      <td>0.0</td>\n",
       "      <td>0.00</td>\n",
       "      <td>...</td>\n",
       "      <td>0.0</td>\n",
       "      <td>0.00</td>\n",
       "      <td>0.01</td>\n",
       "      <td>0.03</td>\n",
       "      <td>0.01</td>\n",
       "      <td>0.01</td>\n",
       "      <td>0.05</td>\n",
       "      <td>0.00</td>\n",
       "      <td>0.05</td>\n",
       "      <td>0.00</td>\n",
       "    </tr>\n",
       "    <tr>\n",
       "      <th>component_2</th>\n",
       "      <td>0.00</td>\n",
       "      <td>-0.00</td>\n",
       "      <td>0.01</td>\n",
       "      <td>-0.00</td>\n",
       "      <td>0.0</td>\n",
       "      <td>0.0</td>\n",
       "      <td>0.0</td>\n",
       "      <td>-0.01</td>\n",
       "      <td>0.0</td>\n",
       "      <td>-0.00</td>\n",
       "      <td>...</td>\n",
       "      <td>0.0</td>\n",
       "      <td>-0.01</td>\n",
       "      <td>-0.01</td>\n",
       "      <td>0.03</td>\n",
       "      <td>0.01</td>\n",
       "      <td>-0.02</td>\n",
       "      <td>-0.06</td>\n",
       "      <td>-0.01</td>\n",
       "      <td>0.00</td>\n",
       "      <td>-0.01</td>\n",
       "    </tr>\n",
       "    <tr>\n",
       "      <th>component_3</th>\n",
       "      <td>-0.01</td>\n",
       "      <td>-0.01</td>\n",
       "      <td>0.00</td>\n",
       "      <td>-0.01</td>\n",
       "      <td>-0.0</td>\n",
       "      <td>-0.0</td>\n",
       "      <td>-0.0</td>\n",
       "      <td>0.01</td>\n",
       "      <td>-0.0</td>\n",
       "      <td>-0.00</td>\n",
       "      <td>...</td>\n",
       "      <td>-0.0</td>\n",
       "      <td>0.01</td>\n",
       "      <td>-0.00</td>\n",
       "      <td>-0.05</td>\n",
       "      <td>-0.02</td>\n",
       "      <td>-0.00</td>\n",
       "      <td>-0.00</td>\n",
       "      <td>0.00</td>\n",
       "      <td>-0.02</td>\n",
       "      <td>-0.00</td>\n",
       "    </tr>\n",
       "    <tr>\n",
       "      <th>component_4</th>\n",
       "      <td>-0.00</td>\n",
       "      <td>-0.01</td>\n",
       "      <td>0.00</td>\n",
       "      <td>0.00</td>\n",
       "      <td>-0.0</td>\n",
       "      <td>0.0</td>\n",
       "      <td>-0.0</td>\n",
       "      <td>-0.00</td>\n",
       "      <td>0.0</td>\n",
       "      <td>0.01</td>\n",
       "      <td>...</td>\n",
       "      <td>-0.0</td>\n",
       "      <td>-0.00</td>\n",
       "      <td>0.01</td>\n",
       "      <td>-0.06</td>\n",
       "      <td>-0.03</td>\n",
       "      <td>0.00</td>\n",
       "      <td>0.00</td>\n",
       "      <td>-0.00</td>\n",
       "      <td>-0.00</td>\n",
       "      <td>0.01</td>\n",
       "    </tr>\n",
       "  </tbody>\n",
       "</table>\n",
       "<p>4 rows × 2419 columns</p>\n",
       "</div>"
      ],
      "text/plain": [
       "             abide  able  aboue  abroad  absence  absent  absolute  abusd  \\\n",
       "component_1   0.00  0.00   0.01    0.01      0.0     0.0       0.0   0.01   \n",
       "component_2   0.00 -0.00   0.01   -0.00      0.0     0.0       0.0  -0.01   \n",
       "component_3  -0.01 -0.01   0.00   -0.01     -0.0    -0.0      -0.0   0.01   \n",
       "component_4  -0.00 -0.01   0.00    0.00     -0.0     0.0      -0.0  -0.00   \n",
       "\n",
       "             abuse  abuses  ...  yesterday  yield  yond  yong  youl  youll  \\\n",
       "component_1    0.0    0.00  ...        0.0   0.00  0.01  0.03  0.01   0.01   \n",
       "component_2    0.0   -0.00  ...        0.0  -0.01 -0.01  0.03  0.01  -0.02   \n",
       "component_3   -0.0   -0.00  ...       -0.0   0.01 -0.00 -0.05 -0.02  -0.00   \n",
       "component_4    0.0    0.01  ...       -0.0  -0.00  0.01 -0.06 -0.03   0.00   \n",
       "\n",
       "             young  younger  youth  youthful  \n",
       "component_1   0.05     0.00   0.05      0.00  \n",
       "component_2  -0.06    -0.01   0.00     -0.01  \n",
       "component_3  -0.00     0.00  -0.02     -0.00  \n",
       "component_4   0.00    -0.00  -0.00      0.01  \n",
       "\n",
       "[4 rows x 2419 columns]"
      ]
     },
     "execution_count": 13,
     "metadata": {},
     "output_type": "execute_result"
    }
   ],
   "source": [
    "topic_word = pd.DataFrame(lsa.components_.round(2),\n",
    "                         index = ['component_1', 'component_2', 'component_3', 'component_4'],\n",
    "                         columns = count_vectorizer.get_feature_names())\n",
    "topic_word"
   ]
  },
  {
   "cell_type": "code",
   "execution_count": 14,
   "metadata": {
    "ExecuteTime": {
     "end_time": "2019-08-20T20:35:22.659023Z",
     "start_time": "2019-08-20T20:35:22.655380Z"
    }
   },
   "outputs": [],
   "source": [
    "def display_topics(model, feature_names, no_top_words, topic_names=None):\n",
    "    for ix, topic in enumerate(model.components_):\n",
    "        if not topic_names or not topic_names[ix]:\n",
    "            print(\"\\nTopic \", ix)\n",
    "        else:\n",
    "            print(\"\\nTopic: '\",topic_names[ix],\"'\")\n",
    "        print(\", \".join([feature_names[i]\n",
    "            for i in topic.argsort()[:-no_top_words - 1:-1]]))"
   ]
  },
  {
   "cell_type": "code",
   "execution_count": 15,
   "metadata": {
    "ExecuteTime": {
     "end_time": "2019-08-20T20:35:23.261270Z",
     "start_time": "2019-08-20T20:35:23.255642Z"
    }
   },
   "outputs": [
    {
     "name": "stdout",
     "output_type": "stream",
     "text": [
      "\n",
      "Topic  0\n",
      "king, love, father, night, ill, selfe, old, exeunt, daughter, fool\n",
      "\n",
      "Topic  1\n",
      "king, selfe, speake, queene, thinke, looke, heauen, play, heare, owne\n",
      "\n",
      "Topic  2\n",
      "fool, king, corn, father, poor, nature, france, speak, regan, goneril\n",
      "\n",
      "Topic  3\n",
      "night, dead, king, lady, ill, mother, god, wife, fair, wilt\n"
     ]
    }
   ],
   "source": [
    "display_topics(lsa, count_vectorizer.get_feature_names(), 10)"
   ]
  },
  {
   "cell_type": "code",
   "execution_count": null,
   "metadata": {},
   "outputs": [],
   "source": []
  },
  {
   "cell_type": "markdown",
   "metadata": {},
   "source": [
    "## NMF - Non-Negative Matrix Factorization"
   ]
  },
  {
   "cell_type": "code",
   "execution_count": 16,
   "metadata": {
    "ExecuteTime": {
     "end_time": "2019-08-20T20:48:59.495787Z",
     "start_time": "2019-08-20T20:48:59.492627Z"
    }
   },
   "outputs": [
    {
     "data": {
      "text/plain": [
       "(42, 2419)"
      ]
     },
     "execution_count": 16,
     "metadata": {},
     "output_type": "execute_result"
    }
   ],
   "source": [
    "doc_word.shape"
   ]
  },
  {
   "cell_type": "code",
   "execution_count": 114,
   "metadata": {
    "ExecuteTime": {
     "end_time": "2019-08-20T20:49:00.519968Z",
     "start_time": "2019-08-20T20:49:00.492002Z"
    }
   },
   "outputs": [],
   "source": [
    "nmf_model = NMF(5)\n",
    "doc_topic = nmf_model.fit_transform(doc_word)"
   ]
  },
  {
   "cell_type": "code",
   "execution_count": 115,
   "metadata": {
    "ExecuteTime": {
     "end_time": "2019-08-20T20:49:00.771146Z",
     "start_time": "2019-08-20T20:49:00.767838Z"
    }
   },
   "outputs": [
    {
     "data": {
      "text/plain": [
       "(42, 2419)"
      ]
     },
     "execution_count": 115,
     "metadata": {},
     "output_type": "execute_result"
    }
   ],
   "source": [
    "doc_word.shape"
   ]
  },
  {
   "cell_type": "code",
   "execution_count": 116,
   "metadata": {
    "ExecuteTime": {
     "end_time": "2019-08-20T20:49:01.160556Z",
     "start_time": "2019-08-20T20:49:01.136882Z"
    }
   },
   "outputs": [
    {
     "data": {
      "text/html": [
       "<div>\n",
       "<style scoped>\n",
       "    .dataframe tbody tr th:only-of-type {\n",
       "        vertical-align: middle;\n",
       "    }\n",
       "\n",
       "    .dataframe tbody tr th {\n",
       "        vertical-align: top;\n",
       "    }\n",
       "\n",
       "    .dataframe thead th {\n",
       "        text-align: right;\n",
       "    }\n",
       "</style>\n",
       "<table border=\"1\" class=\"dataframe\">\n",
       "  <thead>\n",
       "    <tr style=\"text-align: right;\">\n",
       "      <th></th>\n",
       "      <th>abide</th>\n",
       "      <th>able</th>\n",
       "      <th>aboue</th>\n",
       "      <th>abroad</th>\n",
       "      <th>absence</th>\n",
       "      <th>absent</th>\n",
       "      <th>absolute</th>\n",
       "      <th>abusd</th>\n",
       "      <th>abuse</th>\n",
       "      <th>abuses</th>\n",
       "      <th>...</th>\n",
       "      <th>yesterday</th>\n",
       "      <th>yield</th>\n",
       "      <th>yond</th>\n",
       "      <th>yong</th>\n",
       "      <th>youl</th>\n",
       "      <th>youll</th>\n",
       "      <th>young</th>\n",
       "      <th>younger</th>\n",
       "      <th>youth</th>\n",
       "      <th>youthful</th>\n",
       "    </tr>\n",
       "  </thead>\n",
       "  <tbody>\n",
       "    <tr>\n",
       "      <th>component_1</th>\n",
       "      <td>0.00</td>\n",
       "      <td>0.00</td>\n",
       "      <td>0.25</td>\n",
       "      <td>0.02</td>\n",
       "      <td>0.00</td>\n",
       "      <td>0.09</td>\n",
       "      <td>0.10</td>\n",
       "      <td>0.01</td>\n",
       "      <td>0.08</td>\n",
       "      <td>0.08</td>\n",
       "      <td>...</td>\n",
       "      <td>0.08</td>\n",
       "      <td>0.00</td>\n",
       "      <td>0.03</td>\n",
       "      <td>0.52</td>\n",
       "      <td>0.20</td>\n",
       "      <td>0.00</td>\n",
       "      <td>0.34</td>\n",
       "      <td>0.00</td>\n",
       "      <td>0.75</td>\n",
       "      <td>0.00</td>\n",
       "    </tr>\n",
       "    <tr>\n",
       "      <th>component_2</th>\n",
       "      <td>0.00</td>\n",
       "      <td>0.05</td>\n",
       "      <td>0.00</td>\n",
       "      <td>0.13</td>\n",
       "      <td>0.00</td>\n",
       "      <td>0.02</td>\n",
       "      <td>0.00</td>\n",
       "      <td>0.03</td>\n",
       "      <td>0.04</td>\n",
       "      <td>0.08</td>\n",
       "      <td>...</td>\n",
       "      <td>0.02</td>\n",
       "      <td>0.02</td>\n",
       "      <td>0.19</td>\n",
       "      <td>0.00</td>\n",
       "      <td>0.00</td>\n",
       "      <td>0.20</td>\n",
       "      <td>0.97</td>\n",
       "      <td>0.10</td>\n",
       "      <td>0.50</td>\n",
       "      <td>0.10</td>\n",
       "    </tr>\n",
       "    <tr>\n",
       "      <th>component_3</th>\n",
       "      <td>0.01</td>\n",
       "      <td>0.02</td>\n",
       "      <td>0.00</td>\n",
       "      <td>0.02</td>\n",
       "      <td>0.01</td>\n",
       "      <td>0.01</td>\n",
       "      <td>0.00</td>\n",
       "      <td>0.16</td>\n",
       "      <td>0.01</td>\n",
       "      <td>0.00</td>\n",
       "      <td>...</td>\n",
       "      <td>0.01</td>\n",
       "      <td>0.11</td>\n",
       "      <td>0.10</td>\n",
       "      <td>0.00</td>\n",
       "      <td>0.00</td>\n",
       "      <td>0.11</td>\n",
       "      <td>0.65</td>\n",
       "      <td>0.12</td>\n",
       "      <td>0.17</td>\n",
       "      <td>0.02</td>\n",
       "    </tr>\n",
       "    <tr>\n",
       "      <th>component_4</th>\n",
       "      <td>0.00</td>\n",
       "      <td>0.09</td>\n",
       "      <td>0.00</td>\n",
       "      <td>0.08</td>\n",
       "      <td>0.00</td>\n",
       "      <td>0.02</td>\n",
       "      <td>0.04</td>\n",
       "      <td>0.00</td>\n",
       "      <td>0.03</td>\n",
       "      <td>0.00</td>\n",
       "      <td>...</td>\n",
       "      <td>0.00</td>\n",
       "      <td>0.00</td>\n",
       "      <td>0.00</td>\n",
       "      <td>0.63</td>\n",
       "      <td>0.32</td>\n",
       "      <td>0.03</td>\n",
       "      <td>0.20</td>\n",
       "      <td>0.01</td>\n",
       "      <td>0.29</td>\n",
       "      <td>0.00</td>\n",
       "    </tr>\n",
       "    <tr>\n",
       "      <th>component_5</th>\n",
       "      <td>0.21</td>\n",
       "      <td>0.06</td>\n",
       "      <td>0.09</td>\n",
       "      <td>0.09</td>\n",
       "      <td>0.11</td>\n",
       "      <td>0.02</td>\n",
       "      <td>0.02</td>\n",
       "      <td>0.03</td>\n",
       "      <td>0.00</td>\n",
       "      <td>0.00</td>\n",
       "      <td>...</td>\n",
       "      <td>0.04</td>\n",
       "      <td>0.00</td>\n",
       "      <td>0.07</td>\n",
       "      <td>0.58</td>\n",
       "      <td>0.09</td>\n",
       "      <td>0.00</td>\n",
       "      <td>0.09</td>\n",
       "      <td>0.00</td>\n",
       "      <td>0.29</td>\n",
       "      <td>0.01</td>\n",
       "    </tr>\n",
       "  </tbody>\n",
       "</table>\n",
       "<p>5 rows × 2419 columns</p>\n",
       "</div>"
      ],
      "text/plain": [
       "             abide  able  aboue  abroad  absence  absent  absolute  abusd  \\\n",
       "component_1   0.00  0.00   0.25    0.02     0.00    0.09      0.10   0.01   \n",
       "component_2   0.00  0.05   0.00    0.13     0.00    0.02      0.00   0.03   \n",
       "component_3   0.01  0.02   0.00    0.02     0.01    0.01      0.00   0.16   \n",
       "component_4   0.00  0.09   0.00    0.08     0.00    0.02      0.04   0.00   \n",
       "component_5   0.21  0.06   0.09    0.09     0.11    0.02      0.02   0.03   \n",
       "\n",
       "             abuse  abuses  ...  yesterday  yield  yond  yong  youl  youll  \\\n",
       "component_1   0.08    0.08  ...       0.08   0.00  0.03  0.52  0.20   0.00   \n",
       "component_2   0.04    0.08  ...       0.02   0.02  0.19  0.00  0.00   0.20   \n",
       "component_3   0.01    0.00  ...       0.01   0.11  0.10  0.00  0.00   0.11   \n",
       "component_4   0.03    0.00  ...       0.00   0.00  0.00  0.63  0.32   0.03   \n",
       "component_5   0.00    0.00  ...       0.04   0.00  0.07  0.58  0.09   0.00   \n",
       "\n",
       "             young  younger  youth  youthful  \n",
       "component_1   0.34     0.00   0.75      0.00  \n",
       "component_2   0.97     0.10   0.50      0.10  \n",
       "component_3   0.65     0.12   0.17      0.02  \n",
       "component_4   0.20     0.01   0.29      0.00  \n",
       "component_5   0.09     0.00   0.29      0.01  \n",
       "\n",
       "[5 rows x 2419 columns]"
      ]
     },
     "execution_count": 116,
     "metadata": {},
     "output_type": "execute_result"
    }
   ],
   "source": [
    "topic_word = pd.DataFrame(nmf_model.components_.round(2),\n",
    "             index = [\"component_1\", \"component_2\", 'component_3', 'component_4', 'component_5'],\n",
    "             columns = count_vectorizer.get_feature_names())\n",
    "topic_word"
   ]
  },
  {
   "cell_type": "code",
   "execution_count": 117,
   "metadata": {
    "ExecuteTime": {
     "end_time": "2019-08-20T20:49:01.625629Z",
     "start_time": "2019-08-20T20:49:01.619796Z"
    }
   },
   "outputs": [
    {
     "name": "stdout",
     "output_type": "stream",
     "text": [
      "\n",
      "Topic  0\n",
      "king, selfe, play, queene, mother, father, heauen, thinke, speake, looke, owne, soule, dead, heare, downe\n",
      "\n",
      "Topic  1\n",
      "love, ill, night, lady, fair, wife, dead, god, look, speak, wilt, old, word, gone, dear\n",
      "\n",
      "Topic  2\n",
      "fool, father, ill, king, old, speak, corn, poor, duke, love, nature, daughter, son, france, better\n",
      "\n",
      "Topic  3\n",
      "daughter, love, cosen, friend, faire, doctor, goe, noble, em, duke, thinke, woman, againe, oth, honour\n",
      "\n",
      "Topic  4\n",
      "goe, neuer, iew, night, speake, faire, selfe, looke, leaue, lysander, hermia, feare, heare, father, moone\n"
     ]
    }
   ],
   "source": [
    "display_topics(nmf_model, count_vectorizer.get_feature_names(), 15)"
   ]
  },
  {
   "cell_type": "code",
   "execution_count": 154,
   "metadata": {},
   "outputs": [
    {
     "data": {
      "text/html": [
       "<div>\n",
       "<style scoped>\n",
       "    .dataframe tbody tr th:only-of-type {\n",
       "        vertical-align: middle;\n",
       "    }\n",
       "\n",
       "    .dataframe tbody tr th {\n",
       "        vertical-align: top;\n",
       "    }\n",
       "\n",
       "    .dataframe thead th {\n",
       "        text-align: right;\n",
       "    }\n",
       "</style>\n",
       "<table border=\"1\" class=\"dataframe\">\n",
       "  <thead>\n",
       "    <tr style=\"text-align: right;\">\n",
       "      <th></th>\n",
       "      <th>component_1</th>\n",
       "      <th>component_2</th>\n",
       "      <th>component_3</th>\n",
       "      <th>component_4</th>\n",
       "      <th>component_5</th>\n",
       "    </tr>\n",
       "  </thead>\n",
       "  <tbody>\n",
       "    <tr>\n",
       "      <th>0</th>\n",
       "      <td>0.00000</td>\n",
       "      <td>5.95888</td>\n",
       "      <td>0.00000</td>\n",
       "      <td>0.00000</td>\n",
       "      <td>0.17082</td>\n",
       "    </tr>\n",
       "    <tr>\n",
       "      <th>1</th>\n",
       "      <td>0.00000</td>\n",
       "      <td>6.18521</td>\n",
       "      <td>0.00000</td>\n",
       "      <td>0.11878</td>\n",
       "      <td>0.00000</td>\n",
       "    </tr>\n",
       "    <tr>\n",
       "      <th>2</th>\n",
       "      <td>0.24293</td>\n",
       "      <td>6.70917</td>\n",
       "      <td>0.00000</td>\n",
       "      <td>0.00000</td>\n",
       "      <td>0.02927</td>\n",
       "    </tr>\n",
       "    <tr>\n",
       "      <th>3</th>\n",
       "      <td>0.34937</td>\n",
       "      <td>3.19105</td>\n",
       "      <td>0.02451</td>\n",
       "      <td>0.00000</td>\n",
       "      <td>0.00000</td>\n",
       "    </tr>\n",
       "    <tr>\n",
       "      <th>4</th>\n",
       "      <td>0.00000</td>\n",
       "      <td>2.51845</td>\n",
       "      <td>0.31497</td>\n",
       "      <td>0.00000</td>\n",
       "      <td>0.62684</td>\n",
       "    </tr>\n",
       "  </tbody>\n",
       "</table>\n",
       "</div>"
      ],
      "text/plain": [
       "   component_1  component_2  component_3  component_4  component_5\n",
       "0      0.00000      5.95888      0.00000      0.00000      0.17082\n",
       "1      0.00000      6.18521      0.00000      0.11878      0.00000\n",
       "2      0.24293      6.70917      0.00000      0.00000      0.02927\n",
       "3      0.34937      3.19105      0.02451      0.00000      0.00000\n",
       "4      0.00000      2.51845      0.31497      0.00000      0.62684"
      ]
     },
     "execution_count": 154,
     "metadata": {},
     "output_type": "execute_result"
    }
   ],
   "source": [
    "H = pd.DataFrame(doc_topic.round(5),\n",
    "             columns = [\"component_1\", \"component_2\", 'component_3', 'component_4', 'component_5'])\n",
    "H.head()"
   ]
  },
  {
   "cell_type": "code",
   "execution_count": 155,
   "metadata": {},
   "outputs": [
    {
     "data": {
      "text/html": [
       "<div>\n",
       "<style scoped>\n",
       "    .dataframe tbody tr th:only-of-type {\n",
       "        vertical-align: middle;\n",
       "    }\n",
       "\n",
       "    .dataframe tbody tr th {\n",
       "        vertical-align: top;\n",
       "    }\n",
       "\n",
       "    .dataframe thead th {\n",
       "        text-align: right;\n",
       "    }\n",
       "</style>\n",
       "<table border=\"1\" class=\"dataframe\">\n",
       "  <thead>\n",
       "    <tr style=\"text-align: right;\">\n",
       "      <th></th>\n",
       "      <th>component_1</th>\n",
       "      <th>component_2</th>\n",
       "      <th>component_3</th>\n",
       "      <th>component_4</th>\n",
       "      <th>component_5</th>\n",
       "    </tr>\n",
       "  </thead>\n",
       "  <tbody>\n",
       "    <tr>\n",
       "      <th>0</th>\n",
       "      <td>0.00000</td>\n",
       "      <td>5.95888</td>\n",
       "      <td>0.00000</td>\n",
       "      <td>0.00000</td>\n",
       "      <td>0.17082</td>\n",
       "    </tr>\n",
       "    <tr>\n",
       "      <th>1</th>\n",
       "      <td>0.00000</td>\n",
       "      <td>6.18521</td>\n",
       "      <td>0.00000</td>\n",
       "      <td>0.11878</td>\n",
       "      <td>0.00000</td>\n",
       "    </tr>\n",
       "    <tr>\n",
       "      <th>2</th>\n",
       "      <td>0.24293</td>\n",
       "      <td>6.70917</td>\n",
       "      <td>0.00000</td>\n",
       "      <td>0.00000</td>\n",
       "      <td>0.02927</td>\n",
       "    </tr>\n",
       "    <tr>\n",
       "      <th>3</th>\n",
       "      <td>0.34937</td>\n",
       "      <td>3.19105</td>\n",
       "      <td>0.02451</td>\n",
       "      <td>0.00000</td>\n",
       "      <td>0.00000</td>\n",
       "    </tr>\n",
       "    <tr>\n",
       "      <th>4</th>\n",
       "      <td>0.00000</td>\n",
       "      <td>2.51845</td>\n",
       "      <td>0.31497</td>\n",
       "      <td>0.00000</td>\n",
       "      <td>0.62684</td>\n",
       "    </tr>\n",
       "    <tr>\n",
       "      <th>5</th>\n",
       "      <td>2.22512</td>\n",
       "      <td>0.00000</td>\n",
       "      <td>0.25629</td>\n",
       "      <td>0.00000</td>\n",
       "      <td>3.22074</td>\n",
       "    </tr>\n",
       "    <tr>\n",
       "      <th>6</th>\n",
       "      <td>11.56169</td>\n",
       "      <td>0.00000</td>\n",
       "      <td>0.00000</td>\n",
       "      <td>0.00000</td>\n",
       "      <td>0.00000</td>\n",
       "    </tr>\n",
       "    <tr>\n",
       "      <th>7</th>\n",
       "      <td>0.00000</td>\n",
       "      <td>0.00000</td>\n",
       "      <td>8.93122</td>\n",
       "      <td>0.36045</td>\n",
       "      <td>0.00000</td>\n",
       "    </tr>\n",
       "    <tr>\n",
       "      <th>8</th>\n",
       "      <td>0.11032</td>\n",
       "      <td>0.03530</td>\n",
       "      <td>5.85767</td>\n",
       "      <td>0.00000</td>\n",
       "      <td>0.31011</td>\n",
       "    </tr>\n",
       "    <tr>\n",
       "      <th>9</th>\n",
       "      <td>0.17601</td>\n",
       "      <td>0.00000</td>\n",
       "      <td>5.81249</td>\n",
       "      <td>0.00000</td>\n",
       "      <td>0.23237</td>\n",
       "    </tr>\n",
       "    <tr>\n",
       "      <th>10</th>\n",
       "      <td>0.44127</td>\n",
       "      <td>1.61923</td>\n",
       "      <td>3.84655</td>\n",
       "      <td>0.00000</td>\n",
       "      <td>0.00000</td>\n",
       "    </tr>\n",
       "    <tr>\n",
       "      <th>11</th>\n",
       "      <td>0.36225</td>\n",
       "      <td>0.94192</td>\n",
       "      <td>1.94683</td>\n",
       "      <td>0.18840</td>\n",
       "      <td>0.00000</td>\n",
       "    </tr>\n",
       "    <tr>\n",
       "      <th>12</th>\n",
       "      <td>0.29053</td>\n",
       "      <td>0.00000</td>\n",
       "      <td>0.00000</td>\n",
       "      <td>0.45886</td>\n",
       "      <td>2.55826</td>\n",
       "    </tr>\n",
       "    <tr>\n",
       "      <th>13</th>\n",
       "      <td>0.00000</td>\n",
       "      <td>0.00000</td>\n",
       "      <td>0.33171</td>\n",
       "      <td>0.33119</td>\n",
       "      <td>6.09684</td>\n",
       "    </tr>\n",
       "    <tr>\n",
       "      <th>14</th>\n",
       "      <td>0.38801</td>\n",
       "      <td>0.00000</td>\n",
       "      <td>0.00000</td>\n",
       "      <td>0.62480</td>\n",
       "      <td>4.83333</td>\n",
       "    </tr>\n",
       "    <tr>\n",
       "      <th>15</th>\n",
       "      <td>0.00000</td>\n",
       "      <td>0.00000</td>\n",
       "      <td>0.18119</td>\n",
       "      <td>0.00000</td>\n",
       "      <td>3.97957</td>\n",
       "    </tr>\n",
       "    <tr>\n",
       "      <th>16</th>\n",
       "      <td>0.18671</td>\n",
       "      <td>0.11496</td>\n",
       "      <td>0.00000</td>\n",
       "      <td>0.14940</td>\n",
       "      <td>2.33838</td>\n",
       "    </tr>\n",
       "    <tr>\n",
       "      <th>17</th>\n",
       "      <td>0.20828</td>\n",
       "      <td>0.00000</td>\n",
       "      <td>0.00000</td>\n",
       "      <td>0.35428</td>\n",
       "      <td>2.40075</td>\n",
       "    </tr>\n",
       "    <tr>\n",
       "      <th>18</th>\n",
       "      <td>0.10268</td>\n",
       "      <td>0.19631</td>\n",
       "      <td>0.00000</td>\n",
       "      <td>0.00000</td>\n",
       "      <td>3.14566</td>\n",
       "    </tr>\n",
       "    <tr>\n",
       "      <th>19</th>\n",
       "      <td>0.02773</td>\n",
       "      <td>0.00397</td>\n",
       "      <td>0.00000</td>\n",
       "      <td>0.00000</td>\n",
       "      <td>5.43693</td>\n",
       "    </tr>\n",
       "    <tr>\n",
       "      <th>20</th>\n",
       "      <td>0.16555</td>\n",
       "      <td>0.00000</td>\n",
       "      <td>0.00000</td>\n",
       "      <td>0.39985</td>\n",
       "      <td>1.61896</td>\n",
       "    </tr>\n",
       "    <tr>\n",
       "      <th>21</th>\n",
       "      <td>0.19731</td>\n",
       "      <td>0.23458</td>\n",
       "      <td>0.00000</td>\n",
       "      <td>0.00000</td>\n",
       "      <td>2.81263</td>\n",
       "    </tr>\n",
       "    <tr>\n",
       "      <th>22</th>\n",
       "      <td>0.46350</td>\n",
       "      <td>0.93724</td>\n",
       "      <td>1.71825</td>\n",
       "      <td>0.00000</td>\n",
       "      <td>0.13841</td>\n",
       "    </tr>\n",
       "    <tr>\n",
       "      <th>23</th>\n",
       "      <td>0.35530</td>\n",
       "      <td>0.72220</td>\n",
       "      <td>1.22190</td>\n",
       "      <td>0.05370</td>\n",
       "      <td>0.04019</td>\n",
       "    </tr>\n",
       "    <tr>\n",
       "      <th>24</th>\n",
       "      <td>0.12889</td>\n",
       "      <td>0.73420</td>\n",
       "      <td>0.77658</td>\n",
       "      <td>0.01857</td>\n",
       "      <td>0.32867</td>\n",
       "    </tr>\n",
       "    <tr>\n",
       "      <th>25</th>\n",
       "      <td>0.09161</td>\n",
       "      <td>0.58292</td>\n",
       "      <td>0.57553</td>\n",
       "      <td>0.12943</td>\n",
       "      <td>0.00000</td>\n",
       "    </tr>\n",
       "    <tr>\n",
       "      <th>26</th>\n",
       "      <td>0.36331</td>\n",
       "      <td>0.31025</td>\n",
       "      <td>0.84801</td>\n",
       "      <td>0.12350</td>\n",
       "      <td>0.00000</td>\n",
       "    </tr>\n",
       "    <tr>\n",
       "      <th>27</th>\n",
       "      <td>0.63977</td>\n",
       "      <td>0.36557</td>\n",
       "      <td>0.00000</td>\n",
       "      <td>1.91934</td>\n",
       "      <td>0.23610</td>\n",
       "    </tr>\n",
       "    <tr>\n",
       "      <th>28</th>\n",
       "      <td>0.04564</td>\n",
       "      <td>0.61252</td>\n",
       "      <td>0.00000</td>\n",
       "      <td>5.63706</td>\n",
       "      <td>0.20726</td>\n",
       "    </tr>\n",
       "    <tr>\n",
       "      <th>29</th>\n",
       "      <td>0.28705</td>\n",
       "      <td>0.28727</td>\n",
       "      <td>0.00000</td>\n",
       "      <td>6.35775</td>\n",
       "      <td>0.00000</td>\n",
       "    </tr>\n",
       "    <tr>\n",
       "      <th>30</th>\n",
       "      <td>0.00000</td>\n",
       "      <td>0.00000</td>\n",
       "      <td>0.00000</td>\n",
       "      <td>5.15635</td>\n",
       "      <td>0.00000</td>\n",
       "    </tr>\n",
       "    <tr>\n",
       "      <th>31</th>\n",
       "      <td>0.03952</td>\n",
       "      <td>0.00000</td>\n",
       "      <td>0.00000</td>\n",
       "      <td>5.95025</td>\n",
       "      <td>0.32459</td>\n",
       "    </tr>\n",
       "    <tr>\n",
       "      <th>32</th>\n",
       "      <td>1.37430</td>\n",
       "      <td>0.00000</td>\n",
       "      <td>0.00000</td>\n",
       "      <td>0.00000</td>\n",
       "      <td>1.29205</td>\n",
       "    </tr>\n",
       "    <tr>\n",
       "      <th>33</th>\n",
       "      <td>0.72260</td>\n",
       "      <td>0.40545</td>\n",
       "      <td>0.00000</td>\n",
       "      <td>0.00000</td>\n",
       "      <td>1.32208</td>\n",
       "    </tr>\n",
       "    <tr>\n",
       "      <th>34</th>\n",
       "      <td>0.94534</td>\n",
       "      <td>0.10555</td>\n",
       "      <td>0.00000</td>\n",
       "      <td>0.21547</td>\n",
       "      <td>1.80758</td>\n",
       "    </tr>\n",
       "    <tr>\n",
       "      <th>35</th>\n",
       "      <td>1.06026</td>\n",
       "      <td>0.09986</td>\n",
       "      <td>0.00000</td>\n",
       "      <td>0.00000</td>\n",
       "      <td>1.86749</td>\n",
       "    </tr>\n",
       "    <tr>\n",
       "      <th>36</th>\n",
       "      <td>0.59779</td>\n",
       "      <td>0.11347</td>\n",
       "      <td>0.00000</td>\n",
       "      <td>0.57186</td>\n",
       "      <td>1.07237</td>\n",
       "    </tr>\n",
       "    <tr>\n",
       "      <th>37</th>\n",
       "      <td>0.00000</td>\n",
       "      <td>1.34416</td>\n",
       "      <td>3.52819</td>\n",
       "      <td>1.05713</td>\n",
       "      <td>0.00000</td>\n",
       "    </tr>\n",
       "    <tr>\n",
       "      <th>38</th>\n",
       "      <td>0.00000</td>\n",
       "      <td>0.95647</td>\n",
       "      <td>2.91720</td>\n",
       "      <td>0.60348</td>\n",
       "      <td>0.00000</td>\n",
       "    </tr>\n",
       "    <tr>\n",
       "      <th>39</th>\n",
       "      <td>0.00000</td>\n",
       "      <td>3.78819</td>\n",
       "      <td>0.95607</td>\n",
       "      <td>0.91219</td>\n",
       "      <td>0.00000</td>\n",
       "    </tr>\n",
       "    <tr>\n",
       "      <th>40</th>\n",
       "      <td>0.00000</td>\n",
       "      <td>2.20929</td>\n",
       "      <td>0.54358</td>\n",
       "      <td>0.51655</td>\n",
       "      <td>0.00000</td>\n",
       "    </tr>\n",
       "    <tr>\n",
       "      <th>41</th>\n",
       "      <td>0.00000</td>\n",
       "      <td>2.09111</td>\n",
       "      <td>0.71605</td>\n",
       "      <td>1.34792</td>\n",
       "      <td>0.00000</td>\n",
       "    </tr>\n",
       "  </tbody>\n",
       "</table>\n",
       "</div>"
      ],
      "text/plain": [
       "    component_1  component_2  component_3  component_4  component_5\n",
       "0       0.00000      5.95888      0.00000      0.00000      0.17082\n",
       "1       0.00000      6.18521      0.00000      0.11878      0.00000\n",
       "2       0.24293      6.70917      0.00000      0.00000      0.02927\n",
       "3       0.34937      3.19105      0.02451      0.00000      0.00000\n",
       "4       0.00000      2.51845      0.31497      0.00000      0.62684\n",
       "5       2.22512      0.00000      0.25629      0.00000      3.22074\n",
       "6      11.56169      0.00000      0.00000      0.00000      0.00000\n",
       "7       0.00000      0.00000      8.93122      0.36045      0.00000\n",
       "8       0.11032      0.03530      5.85767      0.00000      0.31011\n",
       "9       0.17601      0.00000      5.81249      0.00000      0.23237\n",
       "10      0.44127      1.61923      3.84655      0.00000      0.00000\n",
       "11      0.36225      0.94192      1.94683      0.18840      0.00000\n",
       "12      0.29053      0.00000      0.00000      0.45886      2.55826\n",
       "13      0.00000      0.00000      0.33171      0.33119      6.09684\n",
       "14      0.38801      0.00000      0.00000      0.62480      4.83333\n",
       "15      0.00000      0.00000      0.18119      0.00000      3.97957\n",
       "16      0.18671      0.11496      0.00000      0.14940      2.33838\n",
       "17      0.20828      0.00000      0.00000      0.35428      2.40075\n",
       "18      0.10268      0.19631      0.00000      0.00000      3.14566\n",
       "19      0.02773      0.00397      0.00000      0.00000      5.43693\n",
       "20      0.16555      0.00000      0.00000      0.39985      1.61896\n",
       "21      0.19731      0.23458      0.00000      0.00000      2.81263\n",
       "22      0.46350      0.93724      1.71825      0.00000      0.13841\n",
       "23      0.35530      0.72220      1.22190      0.05370      0.04019\n",
       "24      0.12889      0.73420      0.77658      0.01857      0.32867\n",
       "25      0.09161      0.58292      0.57553      0.12943      0.00000\n",
       "26      0.36331      0.31025      0.84801      0.12350      0.00000\n",
       "27      0.63977      0.36557      0.00000      1.91934      0.23610\n",
       "28      0.04564      0.61252      0.00000      5.63706      0.20726\n",
       "29      0.28705      0.28727      0.00000      6.35775      0.00000\n",
       "30      0.00000      0.00000      0.00000      5.15635      0.00000\n",
       "31      0.03952      0.00000      0.00000      5.95025      0.32459\n",
       "32      1.37430      0.00000      0.00000      0.00000      1.29205\n",
       "33      0.72260      0.40545      0.00000      0.00000      1.32208\n",
       "34      0.94534      0.10555      0.00000      0.21547      1.80758\n",
       "35      1.06026      0.09986      0.00000      0.00000      1.86749\n",
       "36      0.59779      0.11347      0.00000      0.57186      1.07237\n",
       "37      0.00000      1.34416      3.52819      1.05713      0.00000\n",
       "38      0.00000      0.95647      2.91720      0.60348      0.00000\n",
       "39      0.00000      3.78819      0.95607      0.91219      0.00000\n",
       "40      0.00000      2.20929      0.54358      0.51655      0.00000\n",
       "41      0.00000      2.09111      0.71605      1.34792      0.00000"
      ]
     },
     "execution_count": 155,
     "metadata": {},
     "output_type": "execute_result"
    }
   ],
   "source": [
    "# sums = pd.Series(H.sum(axis=1))\n",
    "\n",
    "# H = H.div(H.sum(axis=1), axis=0)\n",
    "H"
   ]
  },
  {
   "cell_type": "code",
   "execution_count": 162,
   "metadata": {},
   "outputs": [],
   "source": [
    "roju_ind = [0, 1, 2, 3, 4]\n",
    "hamlet_ind = [5,6]\n",
    "king_lear_ind = [7, 8, 9, 10, 11]\n",
    "merchantvenice_ind = [12, 13, 14, 15, 16]\n",
    "midsummer_ind = [17, 18, 19, 20, 21]\n",
    "tempest_ind = [22, 23, 24, 25, 26]\n",
    "kinsmen_ind = [27, 28, 29, 30, 31]\n",
    "macbeth_ind = [32, 33, 34, 35, 36]\n",
    "asyoulikeit_ind = [37, 38, 39, 40, 41]\n",
    "\n",
    "early_play_inds = [0, 1, 2, 3, 4, 12, 13, 14, 15, 16, 17, 18, 19, 20, 21, 32, 33, 34, 35, 36, 37, 38, 39, 40, 41]\n",
    "late_plays_inds = [5, 6, 7, 8, 9, 10, 11, 22, 23, 24, 25, 26, 27, 28, 29, 30, 31]"
   ]
  },
  {
   "cell_type": "code",
   "execution_count": 171,
   "metadata": {},
   "outputs": [],
   "source": [
    "early_topic_bars = H.iloc[early_play_inds].mean()\n",
    "later_topic_bars = H.iloc[late_plays_inds].mean()"
   ]
  },
  {
   "cell_type": "code",
   "execution_count": 207,
   "metadata": {},
   "outputs": [
    {
     "data": {
      "text/plain": [
       "[0.06616526427560535,\n",
       " 0.3494350758788223,\n",
       " 0.09176636067172785,\n",
       " 0.07390487714159161,\n",
       " 0.41872842203225297]"
      ]
     },
     "execution_count": 207,
     "metadata": {},
     "output_type": "execute_result"
    }
   ],
   "source": [
    "early_topic_normalized = []\n",
    "for i in early_topic_bars.values:\n",
    "    early_topic_normalized.append(i / np.sum(early_topic_bars.values))\n",
    "early_topic_normalized"
   ]
  },
  {
   "cell_type": "code",
   "execution_count": 209,
   "metadata": {},
   "outputs": [
    {
     "data": {
      "text/plain": [
       "[0.19837507111559152,\n",
       " 0.08201304132889989,\n",
       " 0.36472813508904955,\n",
       " 0.29707989830255305,\n",
       " 0.057803854163906085]"
      ]
     },
     "execution_count": 209,
     "metadata": {},
     "output_type": "execute_result"
    }
   ],
   "source": [
    "later_topic_normalized = []\n",
    "for i in later_topic_bars.values:\n",
    "    later_topic_normalized.append(i / np.sum(later_topic_bars.values))\n",
    "later_topic_normalized"
   ]
  },
  {
   "cell_type": "code",
   "execution_count": 201,
   "metadata": {},
   "outputs": [
    {
     "data": {
      "text/plain": [
       "5"
      ]
     },
     "execution_count": 201,
     "metadata": {},
     "output_type": "execute_result"
    }
   ],
   "source": [
    "early_topic_bars.values"
   ]
  },
  {
   "cell_type": "code",
   "execution_count": 195,
   "metadata": {},
   "outputs": [
    {
     "data": {
      "text/plain": [
       "5.127319411764705"
      ]
     },
     "execution_count": 195,
     "metadata": {},
     "output_type": "execute_result"
    }
   ],
   "source": [
    "np.sum(later_topic_bars)"
   ]
  },
  {
   "cell_type": "code",
   "execution_count": 213,
   "metadata": {},
   "outputs": [
    {
     "data": {
      "text/plain": [
       "([0, 1, 2, 3, 4], <a list of 5 Text xticklabel objects>)"
      ]
     },
     "execution_count": 213,
     "metadata": {},
     "output_type": "execute_result"
    },
    {
     "data": {
      "image/png": "[encoded data removed]",
      "text/plain": [
       "<Figure size 432x288 with 1 Axes>"
      ]
     },
     "metadata": {
      "needs_background": "light"
     },
     "output_type": "display_data"
    }
   ],
   "source": [
    "plt.bar(['Spirituality', 'Love', 'Royalty', 'Family', 'Death'], early_topic_normalized, color='firebrick')\n",
    "plt.title(\"Early Career Plays\", fontsize=18)\n",
    "plt.xticks(fontsize=13)"
   ]
  },
  {
   "cell_type": "code",
   "execution_count": 211,
   "metadata": {},
   "outputs": [
    {
     "data": {
      "text/plain": [
       "([0, 1, 2, 3, 4], <a list of 5 Text xticklabel objects>)"
      ]
     },
     "execution_count": 211,
     "metadata": {},
     "output_type": "execute_result"
    },
    {
     "data": {
      "image/png": "[encoded data removed]",
      "text/plain": [
       "<Figure size 432x288 with 1 Axes>"
      ]
     },
     "metadata": {
      "needs_background": "light"
     },
     "output_type": "display_data"
    }
   ],
   "source": [
    "plt.bar(['Spirituality', 'Love', 'Royalty', 'Family', 'Death'], later_topic_normalized, color='firebrick')\n",
    "plt.title(\"Late Career Plays\", fontsize=18)\n",
    "plt.xticks(fontsize=13)"
   ]
  },
  {
   "cell_type": "code",
   "execution_count": 160,
   "metadata": {},
   "outputs": [
    {
     "data": {
      "text/html": [
       "<div>\n",
       "<style scoped>\n",
       "    .dataframe tbody tr th:only-of-type {\n",
       "        vertical-align: middle;\n",
       "    }\n",
       "\n",
       "    .dataframe tbody tr th {\n",
       "        vertical-align: top;\n",
       "    }\n",
       "\n",
       "    .dataframe thead th {\n",
       "        text-align: right;\n",
       "    }\n",
       "</style>\n",
       "<table border=\"1\" class=\"dataframe\">\n",
       "  <thead>\n",
       "    <tr style=\"text-align: right;\">\n",
       "      <th></th>\n",
       "      <th>component_1</th>\n",
       "      <th>component_2</th>\n",
       "      <th>component_3</th>\n",
       "      <th>component_4</th>\n",
       "      <th>component_5</th>\n",
       "    </tr>\n",
       "  </thead>\n",
       "  <tbody>\n",
       "    <tr>\n",
       "      <th>count</th>\n",
       "      <td>25.000000</td>\n",
       "      <td>25.000000</td>\n",
       "      <td>25.000000</td>\n",
       "      <td>25.000000</td>\n",
       "      <td>25.000000</td>\n",
       "    </tr>\n",
       "    <tr>\n",
       "      <th>mean</th>\n",
       "      <td>0.274376</td>\n",
       "      <td>1.449045</td>\n",
       "      <td>0.380539</td>\n",
       "      <td>0.306470</td>\n",
       "      <td>1.736392</td>\n",
       "    </tr>\n",
       "    <tr>\n",
       "      <th>std</th>\n",
       "      <td>0.380564</td>\n",
       "      <td>2.135425</td>\n",
       "      <td>0.896820</td>\n",
       "      <td>0.379435</td>\n",
       "      <td>1.831458</td>\n",
       "    </tr>\n",
       "    <tr>\n",
       "      <th>min</th>\n",
       "      <td>0.000000</td>\n",
       "      <td>0.000000</td>\n",
       "      <td>0.000000</td>\n",
       "      <td>0.000000</td>\n",
       "      <td>0.000000</td>\n",
       "    </tr>\n",
       "    <tr>\n",
       "      <th>25%</th>\n",
       "      <td>0.000000</td>\n",
       "      <td>0.000000</td>\n",
       "      <td>0.000000</td>\n",
       "      <td>0.000000</td>\n",
       "      <td>0.000000</td>\n",
       "    </tr>\n",
       "    <tr>\n",
       "      <th>50%</th>\n",
       "      <td>0.165550</td>\n",
       "      <td>0.196310</td>\n",
       "      <td>0.000000</td>\n",
       "      <td>0.149400</td>\n",
       "      <td>1.322080</td>\n",
       "    </tr>\n",
       "    <tr>\n",
       "      <th>75%</th>\n",
       "      <td>0.349370</td>\n",
       "      <td>2.209290</td>\n",
       "      <td>0.314970</td>\n",
       "      <td>0.516550</td>\n",
       "      <td>2.558260</td>\n",
       "    </tr>\n",
       "    <tr>\n",
       "      <th>max</th>\n",
       "      <td>1.374300</td>\n",
       "      <td>6.709170</td>\n",
       "      <td>3.528190</td>\n",
       "      <td>1.347920</td>\n",
       "      <td>6.096840</td>\n",
       "    </tr>\n",
       "  </tbody>\n",
       "</table>\n",
       "</div>"
      ],
      "text/plain": [
       "       component_1  component_2  component_3  component_4  component_5\n",
       "count    25.000000    25.000000    25.000000    25.000000    25.000000\n",
       "mean      0.274376     1.449045     0.380539     0.306470     1.736392\n",
       "std       0.380564     2.135425     0.896820     0.379435     1.831458\n",
       "min       0.000000     0.000000     0.000000     0.000000     0.000000\n",
       "25%       0.000000     0.000000     0.000000     0.000000     0.000000\n",
       "50%       0.165550     0.196310     0.000000     0.149400     1.322080\n",
       "75%       0.349370     2.209290     0.314970     0.516550     2.558260\n",
       "max       1.374300     6.709170     3.528190     1.347920     6.096840"
      ]
     },
     "execution_count": 160,
     "metadata": {},
     "output_type": "execute_result"
    }
   ],
   "source": [
    "H.iloc[s].describe()"
   ]
  },
  {
   "cell_type": "code",
   "execution_count": null,
   "metadata": {},
   "outputs": [],
   "source": []
  },
  {
   "cell_type": "code",
   "execution_count": 133,
   "metadata": {},
   "outputs": [
    {
     "data": {
      "text/html": [
       "<div>\n",
       "<style scoped>\n",
       "    .dataframe tbody tr th:only-of-type {\n",
       "        vertical-align: middle;\n",
       "    }\n",
       "\n",
       "    .dataframe tbody tr th {\n",
       "        vertical-align: top;\n",
       "    }\n",
       "\n",
       "    .dataframe thead th {\n",
       "        text-align: right;\n",
       "    }\n",
       "</style>\n",
       "<table border=\"1\" class=\"dataframe\">\n",
       "  <thead>\n",
       "    <tr style=\"text-align: right;\">\n",
       "      <th></th>\n",
       "      <th>component_1</th>\n",
       "      <th>component_2</th>\n",
       "      <th>component_3</th>\n",
       "      <th>component_4</th>\n",
       "      <th>component_5</th>\n",
       "    </tr>\n",
       "  </thead>\n",
       "  <tbody>\n",
       "    <tr>\n",
       "      <th>0</th>\n",
       "      <td>0.00000</td>\n",
       "      <td>5.95888</td>\n",
       "      <td>0.00000</td>\n",
       "      <td>0.00000</td>\n",
       "      <td>0.17082</td>\n",
       "    </tr>\n",
       "    <tr>\n",
       "      <th>1</th>\n",
       "      <td>0.00000</td>\n",
       "      <td>6.18521</td>\n",
       "      <td>0.00000</td>\n",
       "      <td>0.11878</td>\n",
       "      <td>0.00000</td>\n",
       "    </tr>\n",
       "    <tr>\n",
       "      <th>2</th>\n",
       "      <td>0.24293</td>\n",
       "      <td>6.70917</td>\n",
       "      <td>0.00000</td>\n",
       "      <td>0.00000</td>\n",
       "      <td>0.02927</td>\n",
       "    </tr>\n",
       "    <tr>\n",
       "      <th>3</th>\n",
       "      <td>0.34937</td>\n",
       "      <td>3.19105</td>\n",
       "      <td>0.02451</td>\n",
       "      <td>0.00000</td>\n",
       "      <td>0.00000</td>\n",
       "    </tr>\n",
       "    <tr>\n",
       "      <th>4</th>\n",
       "      <td>0.00000</td>\n",
       "      <td>2.51845</td>\n",
       "      <td>0.31497</td>\n",
       "      <td>0.00000</td>\n",
       "      <td>0.62684</td>\n",
       "    </tr>\n",
       "    <tr>\n",
       "      <th>5</th>\n",
       "      <td>2.22512</td>\n",
       "      <td>0.00000</td>\n",
       "      <td>0.25629</td>\n",
       "      <td>0.00000</td>\n",
       "      <td>3.22074</td>\n",
       "    </tr>\n",
       "    <tr>\n",
       "      <th>6</th>\n",
       "      <td>11.56169</td>\n",
       "      <td>0.00000</td>\n",
       "      <td>0.00000</td>\n",
       "      <td>0.00000</td>\n",
       "      <td>0.00000</td>\n",
       "    </tr>\n",
       "    <tr>\n",
       "      <th>7</th>\n",
       "      <td>0.00000</td>\n",
       "      <td>0.00000</td>\n",
       "      <td>8.93122</td>\n",
       "      <td>0.36045</td>\n",
       "      <td>0.00000</td>\n",
       "    </tr>\n",
       "    <tr>\n",
       "      <th>8</th>\n",
       "      <td>0.11032</td>\n",
       "      <td>0.03530</td>\n",
       "      <td>5.85767</td>\n",
       "      <td>0.00000</td>\n",
       "      <td>0.31011</td>\n",
       "    </tr>\n",
       "    <tr>\n",
       "      <th>9</th>\n",
       "      <td>0.17601</td>\n",
       "      <td>0.00000</td>\n",
       "      <td>5.81249</td>\n",
       "      <td>0.00000</td>\n",
       "      <td>0.23237</td>\n",
       "    </tr>\n",
       "    <tr>\n",
       "      <th>10</th>\n",
       "      <td>0.44127</td>\n",
       "      <td>1.61923</td>\n",
       "      <td>3.84655</td>\n",
       "      <td>0.00000</td>\n",
       "      <td>0.00000</td>\n",
       "    </tr>\n",
       "    <tr>\n",
       "      <th>11</th>\n",
       "      <td>0.36225</td>\n",
       "      <td>0.94192</td>\n",
       "      <td>1.94683</td>\n",
       "      <td>0.18840</td>\n",
       "      <td>0.00000</td>\n",
       "    </tr>\n",
       "    <tr>\n",
       "      <th>12</th>\n",
       "      <td>0.29053</td>\n",
       "      <td>0.00000</td>\n",
       "      <td>0.00000</td>\n",
       "      <td>0.45886</td>\n",
       "      <td>2.55826</td>\n",
       "    </tr>\n",
       "    <tr>\n",
       "      <th>13</th>\n",
       "      <td>0.00000</td>\n",
       "      <td>0.00000</td>\n",
       "      <td>0.33171</td>\n",
       "      <td>0.33119</td>\n",
       "      <td>6.09684</td>\n",
       "    </tr>\n",
       "    <tr>\n",
       "      <th>14</th>\n",
       "      <td>0.38801</td>\n",
       "      <td>0.00000</td>\n",
       "      <td>0.00000</td>\n",
       "      <td>0.62480</td>\n",
       "      <td>4.83333</td>\n",
       "    </tr>\n",
       "    <tr>\n",
       "      <th>15</th>\n",
       "      <td>0.00000</td>\n",
       "      <td>0.00000</td>\n",
       "      <td>0.18119</td>\n",
       "      <td>0.00000</td>\n",
       "      <td>3.97957</td>\n",
       "    </tr>\n",
       "    <tr>\n",
       "      <th>16</th>\n",
       "      <td>0.18671</td>\n",
       "      <td>0.11496</td>\n",
       "      <td>0.00000</td>\n",
       "      <td>0.14940</td>\n",
       "      <td>2.33838</td>\n",
       "    </tr>\n",
       "    <tr>\n",
       "      <th>17</th>\n",
       "      <td>0.20828</td>\n",
       "      <td>0.00000</td>\n",
       "      <td>0.00000</td>\n",
       "      <td>0.35428</td>\n",
       "      <td>2.40075</td>\n",
       "    </tr>\n",
       "    <tr>\n",
       "      <th>18</th>\n",
       "      <td>0.10268</td>\n",
       "      <td>0.19631</td>\n",
       "      <td>0.00000</td>\n",
       "      <td>0.00000</td>\n",
       "      <td>3.14566</td>\n",
       "    </tr>\n",
       "    <tr>\n",
       "      <th>19</th>\n",
       "      <td>0.02773</td>\n",
       "      <td>0.00397</td>\n",
       "      <td>0.00000</td>\n",
       "      <td>0.00000</td>\n",
       "      <td>5.43693</td>\n",
       "    </tr>\n",
       "    <tr>\n",
       "      <th>20</th>\n",
       "      <td>0.16555</td>\n",
       "      <td>0.00000</td>\n",
       "      <td>0.00000</td>\n",
       "      <td>0.39985</td>\n",
       "      <td>1.61896</td>\n",
       "    </tr>\n",
       "    <tr>\n",
       "      <th>21</th>\n",
       "      <td>0.19731</td>\n",
       "      <td>0.23458</td>\n",
       "      <td>0.00000</td>\n",
       "      <td>0.00000</td>\n",
       "      <td>2.81263</td>\n",
       "    </tr>\n",
       "    <tr>\n",
       "      <th>22</th>\n",
       "      <td>0.46350</td>\n",
       "      <td>0.93724</td>\n",
       "      <td>1.71825</td>\n",
       "      <td>0.00000</td>\n",
       "      <td>0.13841</td>\n",
       "    </tr>\n",
       "    <tr>\n",
       "      <th>23</th>\n",
       "      <td>0.35530</td>\n",
       "      <td>0.72220</td>\n",
       "      <td>1.22190</td>\n",
       "      <td>0.05370</td>\n",
       "      <td>0.04019</td>\n",
       "    </tr>\n",
       "    <tr>\n",
       "      <th>24</th>\n",
       "      <td>0.12889</td>\n",
       "      <td>0.73420</td>\n",
       "      <td>0.77658</td>\n",
       "      <td>0.01857</td>\n",
       "      <td>0.32867</td>\n",
       "    </tr>\n",
       "    <tr>\n",
       "      <th>25</th>\n",
       "      <td>0.09161</td>\n",
       "      <td>0.58292</td>\n",
       "      <td>0.57553</td>\n",
       "      <td>0.12943</td>\n",
       "      <td>0.00000</td>\n",
       "    </tr>\n",
       "    <tr>\n",
       "      <th>26</th>\n",
       "      <td>0.36331</td>\n",
       "      <td>0.31025</td>\n",
       "      <td>0.84801</td>\n",
       "      <td>0.12350</td>\n",
       "      <td>0.00000</td>\n",
       "    </tr>\n",
       "    <tr>\n",
       "      <th>27</th>\n",
       "      <td>0.63977</td>\n",
       "      <td>0.36557</td>\n",
       "      <td>0.00000</td>\n",
       "      <td>1.91934</td>\n",
       "      <td>0.23610</td>\n",
       "    </tr>\n",
       "    <tr>\n",
       "      <th>28</th>\n",
       "      <td>0.04564</td>\n",
       "      <td>0.61252</td>\n",
       "      <td>0.00000</td>\n",
       "      <td>5.63706</td>\n",
       "      <td>0.20726</td>\n",
       "    </tr>\n",
       "    <tr>\n",
       "      <th>29</th>\n",
       "      <td>0.28705</td>\n",
       "      <td>0.28727</td>\n",
       "      <td>0.00000</td>\n",
       "      <td>6.35775</td>\n",
       "      <td>0.00000</td>\n",
       "    </tr>\n",
       "    <tr>\n",
       "      <th>30</th>\n",
       "      <td>0.00000</td>\n",
       "      <td>0.00000</td>\n",
       "      <td>0.00000</td>\n",
       "      <td>5.15635</td>\n",
       "      <td>0.00000</td>\n",
       "    </tr>\n",
       "    <tr>\n",
       "      <th>31</th>\n",
       "      <td>0.03952</td>\n",
       "      <td>0.00000</td>\n",
       "      <td>0.00000</td>\n",
       "      <td>5.95025</td>\n",
       "      <td>0.32459</td>\n",
       "    </tr>\n",
       "    <tr>\n",
       "      <th>32</th>\n",
       "      <td>1.37430</td>\n",
       "      <td>0.00000</td>\n",
       "      <td>0.00000</td>\n",
       "      <td>0.00000</td>\n",
       "      <td>1.29205</td>\n",
       "    </tr>\n",
       "    <tr>\n",
       "      <th>33</th>\n",
       "      <td>0.72260</td>\n",
       "      <td>0.40545</td>\n",
       "      <td>0.00000</td>\n",
       "      <td>0.00000</td>\n",
       "      <td>1.32208</td>\n",
       "    </tr>\n",
       "    <tr>\n",
       "      <th>34</th>\n",
       "      <td>0.94534</td>\n",
       "      <td>0.10555</td>\n",
       "      <td>0.00000</td>\n",
       "      <td>0.21547</td>\n",
       "      <td>1.80758</td>\n",
       "    </tr>\n",
       "    <tr>\n",
       "      <th>35</th>\n",
       "      <td>1.06026</td>\n",
       "      <td>0.09986</td>\n",
       "      <td>0.00000</td>\n",
       "      <td>0.00000</td>\n",
       "      <td>1.86749</td>\n",
       "    </tr>\n",
       "    <tr>\n",
       "      <th>36</th>\n",
       "      <td>0.59779</td>\n",
       "      <td>0.11347</td>\n",
       "      <td>0.00000</td>\n",
       "      <td>0.57186</td>\n",
       "      <td>1.07237</td>\n",
       "    </tr>\n",
       "    <tr>\n",
       "      <th>37</th>\n",
       "      <td>0.00000</td>\n",
       "      <td>1.34416</td>\n",
       "      <td>3.52819</td>\n",
       "      <td>1.05713</td>\n",
       "      <td>0.00000</td>\n",
       "    </tr>\n",
       "    <tr>\n",
       "      <th>38</th>\n",
       "      <td>0.00000</td>\n",
       "      <td>0.95647</td>\n",
       "      <td>2.91720</td>\n",
       "      <td>0.60348</td>\n",
       "      <td>0.00000</td>\n",
       "    </tr>\n",
       "    <tr>\n",
       "      <th>39</th>\n",
       "      <td>0.00000</td>\n",
       "      <td>3.78819</td>\n",
       "      <td>0.95607</td>\n",
       "      <td>0.91219</td>\n",
       "      <td>0.00000</td>\n",
       "    </tr>\n",
       "    <tr>\n",
       "      <th>40</th>\n",
       "      <td>0.00000</td>\n",
       "      <td>2.20929</td>\n",
       "      <td>0.54358</td>\n",
       "      <td>0.51655</td>\n",
       "      <td>0.00000</td>\n",
       "    </tr>\n",
       "    <tr>\n",
       "      <th>41</th>\n",
       "      <td>0.00000</td>\n",
       "      <td>2.09111</td>\n",
       "      <td>0.71605</td>\n",
       "      <td>1.34792</td>\n",
       "      <td>0.00000</td>\n",
       "    </tr>\n",
       "  </tbody>\n",
       "</table>\n",
       "</div>"
      ],
      "text/plain": [
       "    component_1  component_2  component_3  component_4  component_5\n",
       "0       0.00000      5.95888      0.00000      0.00000      0.17082\n",
       "1       0.00000      6.18521      0.00000      0.11878      0.00000\n",
       "2       0.24293      6.70917      0.00000      0.00000      0.02927\n",
       "3       0.34937      3.19105      0.02451      0.00000      0.00000\n",
       "4       0.00000      2.51845      0.31497      0.00000      0.62684\n",
       "5       2.22512      0.00000      0.25629      0.00000      3.22074\n",
       "6      11.56169      0.00000      0.00000      0.00000      0.00000\n",
       "7       0.00000      0.00000      8.93122      0.36045      0.00000\n",
       "8       0.11032      0.03530      5.85767      0.00000      0.31011\n",
       "9       0.17601      0.00000      5.81249      0.00000      0.23237\n",
       "10      0.44127      1.61923      3.84655      0.00000      0.00000\n",
       "11      0.36225      0.94192      1.94683      0.18840      0.00000\n",
       "12      0.29053      0.00000      0.00000      0.45886      2.55826\n",
       "13      0.00000      0.00000      0.33171      0.33119      6.09684\n",
       "14      0.38801      0.00000      0.00000      0.62480      4.83333\n",
       "15      0.00000      0.00000      0.18119      0.00000      3.97957\n",
       "16      0.18671      0.11496      0.00000      0.14940      2.33838\n",
       "17      0.20828      0.00000      0.00000      0.35428      2.40075\n",
       "18      0.10268      0.19631      0.00000      0.00000      3.14566\n",
       "19      0.02773      0.00397      0.00000      0.00000      5.43693\n",
       "20      0.16555      0.00000      0.00000      0.39985      1.61896\n",
       "21      0.19731      0.23458      0.00000      0.00000      2.81263\n",
       "22      0.46350      0.93724      1.71825      0.00000      0.13841\n",
       "23      0.35530      0.72220      1.22190      0.05370      0.04019\n",
       "24      0.12889      0.73420      0.77658      0.01857      0.32867\n",
       "25      0.09161      0.58292      0.57553      0.12943      0.00000\n",
       "26      0.36331      0.31025      0.84801      0.12350      0.00000\n",
       "27      0.63977      0.36557      0.00000      1.91934      0.23610\n",
       "28      0.04564      0.61252      0.00000      5.63706      0.20726\n",
       "29      0.28705      0.28727      0.00000      6.35775      0.00000\n",
       "30      0.00000      0.00000      0.00000      5.15635      0.00000\n",
       "31      0.03952      0.00000      0.00000      5.95025      0.32459\n",
       "32      1.37430      0.00000      0.00000      0.00000      1.29205\n",
       "33      0.72260      0.40545      0.00000      0.00000      1.32208\n",
       "34      0.94534      0.10555      0.00000      0.21547      1.80758\n",
       "35      1.06026      0.09986      0.00000      0.00000      1.86749\n",
       "36      0.59779      0.11347      0.00000      0.57186      1.07237\n",
       "37      0.00000      1.34416      3.52819      1.05713      0.00000\n",
       "38      0.00000      0.95647      2.91720      0.60348      0.00000\n",
       "39      0.00000      3.78819      0.95607      0.91219      0.00000\n",
       "40      0.00000      2.20929      0.54358      0.51655      0.00000\n",
       "41      0.00000      2.09111      0.71605      1.34792      0.00000"
      ]
     },
     "execution_count": 133,
     "metadata": {},
     "output_type": "execute_result"
    }
   ],
   "source": [
    "H"
   ]
  },
  {
   "cell_type": "code",
   "execution_count": null,
   "metadata": {},
   "outputs": [],
   "source": []
  },
  {
   "cell_type": "code",
   "execution_count": null,
   "metadata": {},
   "outputs": [],
   "source": [
    "roju_ind = [0, 1, 2, 3, 4]\n",
    "hamlet_ind = [5,6]\n",
    "king_lear_ind = [7, 8, 9, 10, 11]\n",
    "merchantvenice_ind = [12, 13, 14, 15, 16]\n",
    "midsummer_ind = [17, 18, 19, 20, 21]\n",
    "tempest_ind = [22, 23, 24, 25, 26]\n",
    "kinsmen_ind = [27, 28, 29, 30, 31]\n",
    "macbeth_ind = [32, 33, 34, 35, 36]\n",
    "asyoulikeit_ind = [37, 38, 39, 40, 41]\n",
    "\n",
    "tragedy_names = [\n",
    "    'Romeo & Juliet',\n",
    "    'Hamlet', \n",
    "    'King Lear',\n",
    "    'The Tempest',\n",
    "    'Macbeth'\n",
    "]\n",
    "\n",
    "comedy_names = [\n",
    "    'Merchant of Venice',\n",
    "    'Midsummer Nights Dream',\n",
    "    'Two Noble Kinsmen',\n",
    "    'As You Like It'\n",
    "]"
   ]
  },
  {
   "cell_type": "code",
   "execution_count": 234,
   "metadata": {},
   "outputs": [],
   "source": [
    "tragedy_inds = [0, 1, 2, 3, 4, 5, 6, 7, 8, 9, 10, 11, 22, 23, 24, 25, 26, 32, 33, 34, 35, 36]\n",
    "comedy_inds = [12, 13, 14, 15, 16, 17, 18, 19, 20, 21, 27, 28, 29, 30, 31, 37, 38, 39, 40, 41]"
   ]
  },
  {
   "cell_type": "code",
   "execution_count": 235,
   "metadata": {},
   "outputs": [],
   "source": [
    "tragedy_topic_bars = H.iloc[tragedy_inds].mean()\n",
    "comedy_topic_bars = H.iloc[comedy_inds].mean()"
   ]
  },
  {
   "cell_type": "code",
   "execution_count": 236,
   "metadata": {},
   "outputs": [
    {
     "data": {
      "text/plain": [
       "[0.21765099257245524,\n",
       " 0.31449571878970245,\n",
       " 0.3241862552485991,\n",
       " 0.017961065524149607,\n",
       " 0.12570596786509342]"
      ]
     },
     "execution_count": 236,
     "metadata": {},
     "output_type": "execute_result"
    }
   ],
   "source": [
    "tragedy_topic_normalized = []\n",
    "for i in tragedy_topic_bars.values:\n",
    "    tragedy_topic_normalized.append(i / np.sum(tragedy_topic_bars))\n",
    "tragedy_topic_normalized"
   ]
  },
  {
   "cell_type": "code",
   "execution_count": 237,
   "metadata": {},
   "outputs": [
    {
     "data": {
      "text/plain": [
       "[0.02811491969883616,\n",
       " 0.13305738604009493,\n",
       " 0.10001861041574926,\n",
       " 0.34643937610734427,\n",
       " 0.3923697077379753]"
      ]
     },
     "execution_count": 237,
     "metadata": {},
     "output_type": "execute_result"
    }
   ],
   "source": [
    "comedy_topic_normalized = []\n",
    "for i in comedy_topic_bars.values:\n",
    "    comedy_topic_normalized.append(i / np.sum(comedy_topic_bars.values))\n",
    "comedy_topic_normalized"
   ]
  },
  {
   "cell_type": "code",
   "execution_count": 238,
   "metadata": {},
   "outputs": [
    {
     "data": {
      "text/plain": [
       "([0, 1, 2, 3, 4], <a list of 5 Text xticklabel objects>)"
      ]
     },
     "execution_count": 238,
     "metadata": {},
     "output_type": "execute_result"
    },
    {
     "data": {
      "image/png": "[encoded data removed]",
      "text/plain": [
       "<Figure size 432x288 with 1 Axes>"
      ]
     },
     "metadata": {
      "needs_background": "light"
     },
     "output_type": "display_data"
    }
   ],
   "source": [
    "plt.bar(['Spirituality', 'Love', 'Royalty', 'Family', 'Death'], tragedy_topic_normalized, color='firebrick')\n",
    "plt.title(\"Tragedies\", fontsize=18)\n",
    "plt.xticks(fontsize=13)"
   ]
  },
  {
   "cell_type": "code",
   "execution_count": 239,
   "metadata": {},
   "outputs": [
    {
     "data": {
      "text/plain": [
       "([0, 1, 2, 3, 4], <a list of 5 Text xticklabel objects>)"
      ]
     },
     "execution_count": 239,
     "metadata": {},
     "output_type": "execute_result"
    },
    {
     "data": {
      "image/png": "[encoded data removed]",
      "text/plain": [
       "<Figure size 432x288 with 1 Axes>"
      ]
     },
     "metadata": {
      "needs_background": "light"
     },
     "output_type": "display_data"
    }
   ],
   "source": [
    "plt.bar(['Spirituality', 'Love', 'Royalty', 'Family', 'Death'], comedy_topic_normalized, color='firebrick')\n",
    "plt.title(\"Comedies\", fontsize=18)\n",
    "plt.xticks(fontsize=13)"
   ]
  },
  {
   "cell_type": "code",
   "execution_count": null,
   "metadata": {},
   "outputs": [],
   "source": []
  },
  {
   "cell_type": "code",
   "execution_count": null,
   "metadata": {},
   "outputs": [],
   "source": []
  },
  {
   "cell_type": "code",
   "execution_count": 222,
   "metadata": {},
   "outputs": [],
   "source": [
    "first_topic_inds = [0, 1, 2, 7, 8, 9, 12, 13, 14, 17, 18, 19, 22, 23, 24, 27, 28, 29, 32, 33, 34, 37, 38, 39]\n",
    "last_topic_inds = [3, 4, 10, 11, 15, 16, 20, 21, 25, 26, 30, 31, 35, 36, 40, 41]"
   ]
  },
  {
   "cell_type": "code",
   "execution_count": 223,
   "metadata": {},
   "outputs": [],
   "source": [
    "first_topic_bars = H.iloc[first_topic_inds].mean()\n",
    "last_topic_bars = H.iloc[last_topic_inds].mean()"
   ]
  },
  {
   "cell_type": "code",
   "execution_count": 225,
   "metadata": {},
   "outputs": [
    {
     "data": {
      "text/plain": [
       "component_1    0.240934\n",
       "component_2    0.876693\n",
       "component_3    0.562326\n",
       "component_4    0.908344\n",
       "component_5    0.915052\n",
       "dtype: float64"
      ]
     },
     "execution_count": 225,
     "metadata": {},
     "output_type": "execute_result"
    }
   ],
   "source": []
  },
  {
   "cell_type": "code",
   "execution_count": 226,
   "metadata": {},
   "outputs": [
    {
     "data": {
      "text/plain": [
       "[0.05538645078969057,\n",
       " 0.24973001904821873,\n",
       " 0.2727361147335015,\n",
       " 0.16187412007823515,\n",
       " 0.26027329535035404]"
      ]
     },
     "execution_count": 226,
     "metadata": {},
     "output_type": "execute_result"
    }
   ],
   "source": [
    "first_topic_normalized = []\n",
    "for i in first_topic_bars.values:\n",
    "    first_topic_normalized.append(i / np.sum(first_topic_bars))\n",
    "first_topic_normalized"
   ]
  },
  {
   "cell_type": "code",
   "execution_count": 227,
   "metadata": {},
   "outputs": [
    {
     "data": {
      "text/plain": [
       "[0.06877256768521557,\n",
       " 0.25024423052221445,\n",
       " 0.16051101088957714,\n",
       " 0.25927879743673915,\n",
       " 0.26119339346625375]"
      ]
     },
     "execution_count": 227,
     "metadata": {},
     "output_type": "execute_result"
    }
   ],
   "source": [
    "last_topic_normalized = []\n",
    "for i in last_topic_bars.values:\n",
    "    last_topic_normalized.append(i / np.sum(last_topic_bars))\n",
    "last_topic_normalized"
   ]
  },
  {
   "cell_type": "code",
   "execution_count": 232,
   "metadata": {},
   "outputs": [
    {
     "data": {
      "text/plain": [
       "([0, 1, 2, 3, 4], <a list of 5 Text xticklabel objects>)"
      ]
     },
     "execution_count": 232,
     "metadata": {},
     "output_type": "execute_result"
    },
    {
     "data": {
      "image/png": "[encoded data removed]",
      "text/plain": [
       "<Figure size 432x288 with 1 Axes>"
      ]
     },
     "metadata": {
      "needs_background": "light"
     },
     "output_type": "display_data"
    }
   ],
   "source": [
    "plt.bar(['Spirituality', 'Love', 'Royalty', 'Family', 'Death'], first_topic_normalized, color='firebrick')\n",
    "plt.title(\"Acts 1, 2, 3\", fontsize=18)\n",
    "plt.xticks(fontsize=13)"
   ]
  },
  {
   "cell_type": "code",
   "execution_count": 233,
   "metadata": {},
   "outputs": [
    {
     "data": {
      "text/plain": [
       "([0, 1, 2, 3, 4], <a list of 5 Text xticklabel objects>)"
      ]
     },
     "execution_count": 233,
     "metadata": {},
     "output_type": "execute_result"
    },
    {
     "data": {
      "image/png": "[encoded data removed]",
      "text/plain": [
       "<Figure size 432x288 with 1 Axes>"
      ]
     },
     "metadata": {
      "needs_background": "light"
     },
     "output_type": "display_data"
    }
   ],
   "source": [
    "plt.bar(['Spirituality', 'Love', 'Royalty', 'Family', 'Deatht'], last_topic_normalized, color='firebrick')\n",
    "plt.title(\"Acts 4, 5\", fontsize=18)\n",
    "plt.xticks(fontsize=13)"
   ]
  },
  {
   "cell_type": "code",
   "execution_count": null,
   "metadata": {},
   "outputs": [],
   "source": []
  },
  {
   "cell_type": "code",
   "execution_count": null,
   "metadata": {},
   "outputs": [],
   "source": []
  },
  {
   "cell_type": "code",
   "execution_count": null,
   "metadata": {},
   "outputs": [],
   "source": []
  },
  {
   "cell_type": "code",
   "execution_count": null,
   "metadata": {},
   "outputs": [],
   "source": []
  },
  {
   "cell_type": "code",
   "execution_count": null,
   "metadata": {},
   "outputs": [],
   "source": []
  },
  {
   "cell_type": "code",
   "execution_count": 127,
   "metadata": {},
   "outputs": [
    {
     "data": {
      "text/html": [
       "<div>\n",
       "<style scoped>\n",
       "    .dataframe tbody tr th:only-of-type {\n",
       "        vertical-align: middle;\n",
       "    }\n",
       "\n",
       "    .dataframe tbody tr th {\n",
       "        vertical-align: top;\n",
       "    }\n",
       "\n",
       "    .dataframe thead th {\n",
       "        text-align: right;\n",
       "    }\n",
       "</style>\n",
       "<table border=\"1\" class=\"dataframe\">\n",
       "  <thead>\n",
       "    <tr style=\"text-align: right;\">\n",
       "      <th></th>\n",
       "      <th>c1</th>\n",
       "      <th>c2</th>\n",
       "    </tr>\n",
       "  </thead>\n",
       "  <tbody>\n",
       "    <tr>\n",
       "      <th>0</th>\n",
       "      <td>10</td>\n",
       "      <td>100</td>\n",
       "    </tr>\n",
       "    <tr>\n",
       "      <th>1</th>\n",
       "      <td>11</td>\n",
       "      <td>110</td>\n",
       "    </tr>\n",
       "    <tr>\n",
       "      <th>2</th>\n",
       "      <td>12</td>\n",
       "      <td>120</td>\n",
       "    </tr>\n",
       "  </tbody>\n",
       "</table>\n",
       "</div>"
      ],
      "text/plain": [
       "   c1   c2\n",
       "0  10  100\n",
       "1  11  110\n",
       "2  12  120"
      ]
     },
     "execution_count": 127,
     "metadata": {},
     "output_type": "execute_result"
    }
   ],
   "source": [
    "fake_df = pd.DataFrame([{'c1':10, 'c2':100}, {'c1':11,'c2':110}, {'c1':12,'c2':120}])\n",
    "fake_df"
   ]
  },
  {
   "cell_type": "code",
   "execution_count": null,
   "metadata": {},
   "outputs": [],
   "source": []
  },
  {
   "cell_type": "markdown",
   "metadata": {},
   "source": [
    "# Early vs Late Career Topic Analysis"
   ]
  },
  {
   "cell_type": "code",
   "execution_count": 21,
   "metadata": {},
   "outputs": [],
   "source": [
    "early_career_play_names = [\n",
    "    'Romeo & Juliet',\n",
    "    'Merchant of Venice',\n",
    "    'Midsummer Nights Dream',\n",
    "    'Macbeth',\n",
    "    'As You Like It'\n",
    "]\n",
    "\n",
    "later_career_play_names = [\n",
    "    'Hamlet', \n",
    "    'The Tempest', \n",
    "    'Two Noble Kinsmen',\n",
    "    'King Lear'\n",
    "]"
   ]
  },
  {
   "cell_type": "code",
   "execution_count": 22,
   "metadata": {},
   "outputs": [],
   "source": [
    "early_career_texts = []\n",
    "later_career_texts = []"
   ]
  },
  {
   "cell_type": "code",
   "execution_count": 23,
   "metadata": {},
   "outputs": [],
   "source": [
    "for act in all_acts:\n",
    "    if act['Title'] in early_career_play_names:\n",
    "        early_career_texts.append(act['Text'])\n",
    "    else:\n",
    "        later_career_texts.append(act['Text'])"
   ]
  },
  {
   "cell_type": "code",
   "execution_count": 24,
   "metadata": {},
   "outputs": [
    {
     "name": "stderr",
     "output_type": "stream",
     "text": [
      "/Users/joelporcaro/anaconda3/envs/metis/lib/python3.6/site-packages/sklearn/feature_extraction/text.py:300: UserWarning: Your stop_words may be inconsistent with your preprocessing. Tokenizing the stop words generated tokens ['exeunt', 'prologue', 'serv'] not in stop_words.\n",
      "  'stop_words.' % sorted(inconsistent))\n"
     ]
    },
    {
     "name": "stdout",
     "output_type": "stream",
     "text": [
      "(25, 2587)\n",
      "(17, 4392)\n"
     ]
    }
   ],
   "source": [
    "count_vectorizer_EARLY = CountVectorizer(stop_words=union_stop_words, token_pattern=\"\\\\b[a-z][a-z]+\\\\b\", min_df=0.1, max_df=0.9, ngram_range=(1,2))\n",
    "count_vectorizer_EARLY.fit(early_career_texts)\n",
    "doc_word_EARLY = count_vectorizer_EARLY.transform(early_career_texts)\n",
    "\n",
    "count_vectorizer_LATE = CountVectorizer(stop_words=union_stop_words, token_pattern=\"\\\\b[a-z][a-z]+\\\\b\", min_df=0.1, max_df=0.9, ngram_range=(1,2))\n",
    "count_vectorizer_LATE.fit(later_career_texts)\n",
    "doc_word_LATE = count_vectorizer_LATE.transform(later_career_texts)\n",
    "\n",
    "print(doc_word_EARLY.shape)\n",
    "print(doc_word_LATE.shape)"
   ]
  },
  {
   "cell_type": "code",
   "execution_count": 92,
   "metadata": {},
   "outputs": [],
   "source": [
    "nmf_model_EARLY = NMF(5)\n",
    "doc_topic_EARLY = nmf_model_EARLY.fit_transform(doc_word_EARLY)\n",
    "\n",
    "nmf_model_LATE = NMF(5)\n",
    "doc_topic_LATE = nmf_model_LATE.fit_transform(doc_word_LATE)"
   ]
  },
  {
   "cell_type": "code",
   "execution_count": 93,
   "metadata": {},
   "outputs": [],
   "source": [
    "topic_word_EARLY = pd.DataFrame(nmf_model_EARLY.components_.round(2),\n",
    "                                index = [\"component_1\", \"component_2\", 'component_3', 'component_4', 'component_5'],\n",
    "                                columns = count_vectorizer_EARLY.get_feature_names())\n",
    "\n",
    "topic_word_LATE = pd.DataFrame(nmf_model_LATE.components_.round(2),\n",
    "                                index = [\"component_1\", \"component_2\", 'component_3', 'component_4', 'component_5'],\n",
    "                                columns = count_vectorizer_LATE.get_feature_names())"
   ]
  },
  {
   "cell_type": "code",
   "execution_count": 94,
   "metadata": {},
   "outputs": [
    {
     "data": {
      "text/html": [
       "<div>\n",
       "<style scoped>\n",
       "    .dataframe tbody tr th:only-of-type {\n",
       "        vertical-align: middle;\n",
       "    }\n",
       "\n",
       "    .dataframe tbody tr th {\n",
       "        vertical-align: top;\n",
       "    }\n",
       "\n",
       "    .dataframe thead th {\n",
       "        text-align: right;\n",
       "    }\n",
       "</style>\n",
       "<table border=\"1\" class=\"dataframe\">\n",
       "  <thead>\n",
       "    <tr style=\"text-align: right;\">\n",
       "      <th></th>\n",
       "      <th>abate</th>\n",
       "      <th>abed</th>\n",
       "      <th>abide</th>\n",
       "      <th>able</th>\n",
       "      <th>aboue</th>\n",
       "      <th>abroad</th>\n",
       "      <th>absence</th>\n",
       "      <th>absent</th>\n",
       "      <th>absolute</th>\n",
       "      <th>abusd</th>\n",
       "      <th>...</th>\n",
       "      <th>yond</th>\n",
       "      <th>yong</th>\n",
       "      <th>youl</th>\n",
       "      <th>youle</th>\n",
       "      <th>youll</th>\n",
       "      <th>youmacb</th>\n",
       "      <th>young</th>\n",
       "      <th>younger</th>\n",
       "      <th>youth</th>\n",
       "      <th>youthful</th>\n",
       "    </tr>\n",
       "  </thead>\n",
       "  <tbody>\n",
       "    <tr>\n",
       "      <th>component_1</th>\n",
       "      <td>0.05</td>\n",
       "      <td>0.13</td>\n",
       "      <td>0.00</td>\n",
       "      <td>0.03</td>\n",
       "      <td>0.00</td>\n",
       "      <td>0.19</td>\n",
       "      <td>0.00</td>\n",
       "      <td>0.00</td>\n",
       "      <td>0.00</td>\n",
       "      <td>0.05</td>\n",
       "      <td>...</td>\n",
       "      <td>0.24</td>\n",
       "      <td>0.00</td>\n",
       "      <td>0.00</td>\n",
       "      <td>0.00</td>\n",
       "      <td>0.00</td>\n",
       "      <td>0.00</td>\n",
       "      <td>0.24</td>\n",
       "      <td>0.00</td>\n",
       "      <td>0.13</td>\n",
       "      <td>0.13</td>\n",
       "    </tr>\n",
       "    <tr>\n",
       "      <th>component_2</th>\n",
       "      <td>0.01</td>\n",
       "      <td>0.00</td>\n",
       "      <td>0.08</td>\n",
       "      <td>0.07</td>\n",
       "      <td>0.15</td>\n",
       "      <td>0.10</td>\n",
       "      <td>0.09</td>\n",
       "      <td>0.03</td>\n",
       "      <td>0.00</td>\n",
       "      <td>0.00</td>\n",
       "      <td>...</td>\n",
       "      <td>0.11</td>\n",
       "      <td>0.91</td>\n",
       "      <td>0.09</td>\n",
       "      <td>0.08</td>\n",
       "      <td>0.00</td>\n",
       "      <td>0.00</td>\n",
       "      <td>0.14</td>\n",
       "      <td>0.01</td>\n",
       "      <td>0.26</td>\n",
       "      <td>0.01</td>\n",
       "    </tr>\n",
       "    <tr>\n",
       "      <th>component_3</th>\n",
       "      <td>0.00</td>\n",
       "      <td>0.03</td>\n",
       "      <td>0.00</td>\n",
       "      <td>0.03</td>\n",
       "      <td>0.00</td>\n",
       "      <td>0.00</td>\n",
       "      <td>0.03</td>\n",
       "      <td>0.08</td>\n",
       "      <td>0.00</td>\n",
       "      <td>0.05</td>\n",
       "      <td>...</td>\n",
       "      <td>0.02</td>\n",
       "      <td>0.00</td>\n",
       "      <td>0.00</td>\n",
       "      <td>0.00</td>\n",
       "      <td>0.25</td>\n",
       "      <td>0.00</td>\n",
       "      <td>1.06</td>\n",
       "      <td>0.15</td>\n",
       "      <td>1.01</td>\n",
       "      <td>0.07</td>\n",
       "    </tr>\n",
       "    <tr>\n",
       "      <th>component_4</th>\n",
       "      <td>0.05</td>\n",
       "      <td>0.00</td>\n",
       "      <td>0.24</td>\n",
       "      <td>0.03</td>\n",
       "      <td>0.01</td>\n",
       "      <td>0.04</td>\n",
       "      <td>0.11</td>\n",
       "      <td>0.03</td>\n",
       "      <td>0.08</td>\n",
       "      <td>0.03</td>\n",
       "      <td>...</td>\n",
       "      <td>0.00</td>\n",
       "      <td>0.17</td>\n",
       "      <td>0.04</td>\n",
       "      <td>0.02</td>\n",
       "      <td>0.00</td>\n",
       "      <td>0.11</td>\n",
       "      <td>0.07</td>\n",
       "      <td>0.00</td>\n",
       "      <td>0.21</td>\n",
       "      <td>0.00</td>\n",
       "    </tr>\n",
       "    <tr>\n",
       "      <th>component_5</th>\n",
       "      <td>0.00</td>\n",
       "      <td>0.00</td>\n",
       "      <td>0.00</td>\n",
       "      <td>0.04</td>\n",
       "      <td>0.00</td>\n",
       "      <td>0.04</td>\n",
       "      <td>0.00</td>\n",
       "      <td>0.00</td>\n",
       "      <td>0.00</td>\n",
       "      <td>0.00</td>\n",
       "      <td>...</td>\n",
       "      <td>0.03</td>\n",
       "      <td>0.00</td>\n",
       "      <td>0.00</td>\n",
       "      <td>0.00</td>\n",
       "      <td>0.15</td>\n",
       "      <td>0.00</td>\n",
       "      <td>0.82</td>\n",
       "      <td>0.10</td>\n",
       "      <td>0.14</td>\n",
       "      <td>0.03</td>\n",
       "    </tr>\n",
       "  </tbody>\n",
       "</table>\n",
       "<p>5 rows × 2587 columns</p>\n",
       "</div>"
      ],
      "text/plain": [
       "             abate  abed  abide  able  aboue  abroad  absence  absent  \\\n",
       "component_1   0.05  0.13   0.00  0.03   0.00    0.19     0.00    0.00   \n",
       "component_2   0.01  0.00   0.08  0.07   0.15    0.10     0.09    0.03   \n",
       "component_3   0.00  0.03   0.00  0.03   0.00    0.00     0.03    0.08   \n",
       "component_4   0.05  0.00   0.24  0.03   0.01    0.04     0.11    0.03   \n",
       "component_5   0.00  0.00   0.00  0.04   0.00    0.04     0.00    0.00   \n",
       "\n",
       "             absolute  abusd  ...  yond  yong  youl  youle  youll  youmacb  \\\n",
       "component_1      0.00   0.05  ...  0.24  0.00  0.00   0.00   0.00     0.00   \n",
       "component_2      0.00   0.00  ...  0.11  0.91  0.09   0.08   0.00     0.00   \n",
       "component_3      0.00   0.05  ...  0.02  0.00  0.00   0.00   0.25     0.00   \n",
       "component_4      0.08   0.03  ...  0.00  0.17  0.04   0.02   0.00     0.11   \n",
       "component_5      0.00   0.00  ...  0.03  0.00  0.00   0.00   0.15     0.00   \n",
       "\n",
       "             young  younger  youth  youthful  \n",
       "component_1   0.24     0.00   0.13      0.13  \n",
       "component_2   0.14     0.01   0.26      0.01  \n",
       "component_3   1.06     0.15   1.01      0.07  \n",
       "component_4   0.07     0.00   0.21      0.00  \n",
       "component_5   0.82     0.10   0.14      0.03  \n",
       "\n",
       "[5 rows x 2587 columns]"
      ]
     },
     "execution_count": 94,
     "metadata": {},
     "output_type": "execute_result"
    }
   ],
   "source": [
    "topic_word_EARLY"
   ]
  },
  {
   "cell_type": "code",
   "execution_count": 95,
   "metadata": {},
   "outputs": [
    {
     "data": {
      "text/html": [
       "<div>\n",
       "<style scoped>\n",
       "    .dataframe tbody tr th:only-of-type {\n",
       "        vertical-align: middle;\n",
       "    }\n",
       "\n",
       "    .dataframe tbody tr th {\n",
       "        vertical-align: top;\n",
       "    }\n",
       "\n",
       "    .dataframe thead th {\n",
       "        text-align: right;\n",
       "    }\n",
       "</style>\n",
       "<table border=\"1\" class=\"dataframe\">\n",
       "  <thead>\n",
       "    <tr style=\"text-align: right;\">\n",
       "      <th></th>\n",
       "      <th>abatement</th>\n",
       "      <th>abhorred</th>\n",
       "      <th>abide</th>\n",
       "      <th>abjure</th>\n",
       "      <th>able</th>\n",
       "      <th>aboard</th>\n",
       "      <th>aboord</th>\n",
       "      <th>aboue</th>\n",
       "      <th>abroad</th>\n",
       "      <th>abroade</th>\n",
       "      <th>...</th>\n",
       "      <th>youl finde</th>\n",
       "      <th>youl loose</th>\n",
       "      <th>youll</th>\n",
       "      <th>young</th>\n",
       "      <th>younger</th>\n",
       "      <th>youngest</th>\n",
       "      <th>youshall</th>\n",
       "      <th>youth</th>\n",
       "      <th>youthe</th>\n",
       "      <th>youto</th>\n",
       "    </tr>\n",
       "  </thead>\n",
       "  <tbody>\n",
       "    <tr>\n",
       "      <th>component_1</th>\n",
       "      <td>0.00</td>\n",
       "      <td>0.00</td>\n",
       "      <td>0.00</td>\n",
       "      <td>0.00</td>\n",
       "      <td>0.00</td>\n",
       "      <td>0.00</td>\n",
       "      <td>0.11</td>\n",
       "      <td>0.23</td>\n",
       "      <td>0.02</td>\n",
       "      <td>0.00</td>\n",
       "      <td>...</td>\n",
       "      <td>0.00</td>\n",
       "      <td>0.00</td>\n",
       "      <td>0.00</td>\n",
       "      <td>0.38</td>\n",
       "      <td>0.00</td>\n",
       "      <td>0.00</td>\n",
       "      <td>0.07</td>\n",
       "      <td>0.74</td>\n",
       "      <td>0.00</td>\n",
       "      <td>0.07</td>\n",
       "    </tr>\n",
       "    <tr>\n",
       "      <th>component_2</th>\n",
       "      <td>0.10</td>\n",
       "      <td>0.10</td>\n",
       "      <td>0.00</td>\n",
       "      <td>0.01</td>\n",
       "      <td>0.00</td>\n",
       "      <td>0.00</td>\n",
       "      <td>0.00</td>\n",
       "      <td>0.00</td>\n",
       "      <td>0.01</td>\n",
       "      <td>0.00</td>\n",
       "      <td>...</td>\n",
       "      <td>0.00</td>\n",
       "      <td>0.00</td>\n",
       "      <td>0.01</td>\n",
       "      <td>0.70</td>\n",
       "      <td>0.10</td>\n",
       "      <td>0.20</td>\n",
       "      <td>0.10</td>\n",
       "      <td>0.10</td>\n",
       "      <td>0.00</td>\n",
       "      <td>0.00</td>\n",
       "    </tr>\n",
       "    <tr>\n",
       "      <th>component_3</th>\n",
       "      <td>0.00</td>\n",
       "      <td>0.07</td>\n",
       "      <td>0.08</td>\n",
       "      <td>0.01</td>\n",
       "      <td>0.00</td>\n",
       "      <td>0.13</td>\n",
       "      <td>0.00</td>\n",
       "      <td>0.00</td>\n",
       "      <td>0.03</td>\n",
       "      <td>0.00</td>\n",
       "      <td>...</td>\n",
       "      <td>0.00</td>\n",
       "      <td>0.00</td>\n",
       "      <td>0.00</td>\n",
       "      <td>0.01</td>\n",
       "      <td>0.00</td>\n",
       "      <td>0.00</td>\n",
       "      <td>0.00</td>\n",
       "      <td>0.00</td>\n",
       "      <td>0.07</td>\n",
       "      <td>0.00</td>\n",
       "    </tr>\n",
       "    <tr>\n",
       "      <th>component_4</th>\n",
       "      <td>0.01</td>\n",
       "      <td>0.00</td>\n",
       "      <td>0.00</td>\n",
       "      <td>0.00</td>\n",
       "      <td>0.09</td>\n",
       "      <td>0.04</td>\n",
       "      <td>0.00</td>\n",
       "      <td>0.00</td>\n",
       "      <td>0.08</td>\n",
       "      <td>0.08</td>\n",
       "      <td>...</td>\n",
       "      <td>0.12</td>\n",
       "      <td>0.09</td>\n",
       "      <td>0.00</td>\n",
       "      <td>0.15</td>\n",
       "      <td>0.00</td>\n",
       "      <td>0.00</td>\n",
       "      <td>0.00</td>\n",
       "      <td>0.20</td>\n",
       "      <td>0.05</td>\n",
       "      <td>0.04</td>\n",
       "    </tr>\n",
       "    <tr>\n",
       "      <th>component_5</th>\n",
       "      <td>0.00</td>\n",
       "      <td>0.00</td>\n",
       "      <td>0.00</td>\n",
       "      <td>0.04</td>\n",
       "      <td>0.04</td>\n",
       "      <td>0.00</td>\n",
       "      <td>0.00</td>\n",
       "      <td>0.00</td>\n",
       "      <td>0.04</td>\n",
       "      <td>0.00</td>\n",
       "      <td>...</td>\n",
       "      <td>0.00</td>\n",
       "      <td>0.00</td>\n",
       "      <td>0.14</td>\n",
       "      <td>0.04</td>\n",
       "      <td>0.03</td>\n",
       "      <td>0.02</td>\n",
       "      <td>0.00</td>\n",
       "      <td>0.01</td>\n",
       "      <td>0.04</td>\n",
       "      <td>0.00</td>\n",
       "    </tr>\n",
       "  </tbody>\n",
       "</table>\n",
       "<p>5 rows × 4392 columns</p>\n",
       "</div>"
      ],
      "text/plain": [
       "             abatement  abhorred  abide  abjure  able  aboard  aboord  aboue  \\\n",
       "component_1       0.00      0.00   0.00    0.00  0.00    0.00    0.11   0.23   \n",
       "component_2       0.10      0.10   0.00    0.01  0.00    0.00    0.00   0.00   \n",
       "component_3       0.00      0.07   0.08    0.01  0.00    0.13    0.00   0.00   \n",
       "component_4       0.01      0.00   0.00    0.00  0.09    0.04    0.00   0.00   \n",
       "component_5       0.00      0.00   0.00    0.04  0.04    0.00    0.00   0.00   \n",
       "\n",
       "             abroad  abroade  ...  youl finde  youl loose  youll  young  \\\n",
       "component_1    0.02     0.00  ...        0.00        0.00   0.00   0.38   \n",
       "component_2    0.01     0.00  ...        0.00        0.00   0.01   0.70   \n",
       "component_3    0.03     0.00  ...        0.00        0.00   0.00   0.01   \n",
       "component_4    0.08     0.08  ...        0.12        0.09   0.00   0.15   \n",
       "component_5    0.04     0.00  ...        0.00        0.00   0.14   0.04   \n",
       "\n",
       "             younger  youngest  youshall  youth  youthe  youto  \n",
       "component_1     0.00      0.00      0.07   0.74    0.00   0.07  \n",
       "component_2     0.10      0.20      0.10   0.10    0.00   0.00  \n",
       "component_3     0.00      0.00      0.00   0.00    0.07   0.00  \n",
       "component_4     0.00      0.00      0.00   0.20    0.05   0.04  \n",
       "component_5     0.03      0.02      0.00   0.01    0.04   0.00  \n",
       "\n",
       "[5 rows x 4392 columns]"
      ]
     },
     "execution_count": 95,
     "metadata": {},
     "output_type": "execute_result"
    }
   ],
   "source": [
    "topic_word_LATE"
   ]
  },
  {
   "cell_type": "code",
   "execution_count": 96,
   "metadata": {},
   "outputs": [
    {
     "name": "stdout",
     "output_type": "stream",
     "text": [
      "\n",
      "Topic  0\n",
      "friar, ill, lady, love, dead, night, prince, gone, look, heaven, father, slain, speak, mer, mother\n",
      "\n",
      "Topic  1\n",
      "iew, goe, faire, selfe, choose, father, iessica, neuer, bond, old, portia, lorenzo, fortune, christian, daughter\n",
      "\n",
      "Topic  2\n",
      "love, touchstone, duke, ill, father, corin, brother, fool, world, old, frederick, young, better, speak, forest\n",
      "\n",
      "Topic  3\n",
      "night, neuer, speake, looke, lysander, hermia, king, macbeth, moone, piramus, feare, faire, selfe, great, sleepe\n",
      "\n",
      "Topic  4\n",
      "love, ben, mer, night, fair, ill, wife, sweet, old, lady, young, god, light, capulet, wilt\n"
     ]
    }
   ],
   "source": [
    "display_topics(nmf_model_EARLY, count_vectorizer_EARLY.get_feature_names(), 15)"
   ]
  },
  {
   "cell_type": "code",
   "execution_count": 97,
   "metadata": {},
   "outputs": [
    {
     "name": "stdout",
     "output_type": "stream",
     "text": [
      "\n",
      "Topic  0\n",
      "king, selfe, lordham, play, queene, mother, father, speake, heauen, thinke, laertes, looke, horatio, soule, owne\n",
      "\n",
      "Topic  1\n",
      "fool, love, father, speak, daughter, france, king, ill, exit, nature, cordelia, nuncle, cor, goneril, son\n",
      "\n",
      "Topic  2\n",
      "pope, conj, hanmer, om, sea, monster, dryden, king, collier, speak, island, om pope, spirit, note, master\n",
      "\n",
      "Topic  3\n",
      "daughter, love, iailor, wooer, cosen, friend, faire, doctor, goe, em, thinke, againe, oth, woman, gods\n",
      "\n",
      "Topic  4\n",
      "ill, corn, king, fool, poor, father, alb, night, osw, madam, exit, regan, edgar, speak, exeunt\n"
     ]
    }
   ],
   "source": [
    "display_topics(nmf_model_LATE, count_vectorizer_LATE.get_feature_names(), 15)"
   ]
  },
  {
   "cell_type": "code",
   "execution_count": 102,
   "metadata": {},
   "outputs": [
    {
     "ename": "NameError",
     "evalue": "name 'ex_label' is not defined",
     "output_type": "error",
     "traceback": [
      "\u001b[0;31m---------------------------------------------------------------------------\u001b[0m",
      "\u001b[0;31mNameError\u001b[0m                                 Traceback (most recent call last)",
      "\u001b[0;32m<ipython-input-102-9c97542e9c46>\u001b[0m in \u001b[0;36m<module>\u001b[0;34m()\u001b[0m\n\u001b[1;32m      1\u001b[0m H = pd.DataFrame(doc_topic_EARLY.round(5),\n\u001b[0;32m----> 2\u001b[0;31m              \u001b[0mindex\u001b[0m \u001b[0;34m=\u001b[0m \u001b[0mex_label\u001b[0m\u001b[0;34m,\u001b[0m\u001b[0;34m\u001b[0m\u001b[0;34m\u001b[0m\u001b[0m\n\u001b[0m\u001b[1;32m      3\u001b[0m              columns = [\"component_1\", \"component_2\", 'component_3', 'component_4', 'component_5'])\n\u001b[1;32m      4\u001b[0m \u001b[0mH\u001b[0m\u001b[0;34m\u001b[0m\u001b[0;34m\u001b[0m\u001b[0m\n",
      "\u001b[0;31mNameError\u001b[0m: name 'ex_label' is not defined"
     ]
    }
   ],
   "source": [
    "H = pd.DataFrame(doc_topic_EARLY.round(5),\n",
    "             index = ex_label,\n",
    "             columns = [\"component_1\", \"component_2\", 'component_3', 'component_4', 'component_5'])\n",
    "H\n",
    "\n",
    "# take each number in each row and divide by sum of row for standarizing"
   ]
  },
  {
   "cell_type": "code",
   "execution_count": 101,
   "metadata": {},
   "outputs": [
    {
     "data": {
      "text/html": [
       "<div>\n",
       "<style scoped>\n",
       "    .dataframe tbody tr th:only-of-type {\n",
       "        vertical-align: middle;\n",
       "    }\n",
       "\n",
       "    .dataframe tbody tr th {\n",
       "        vertical-align: top;\n",
       "    }\n",
       "\n",
       "    .dataframe thead th {\n",
       "        text-align: right;\n",
       "    }\n",
       "</style>\n",
       "<table border=\"1\" class=\"dataframe\">\n",
       "  <thead>\n",
       "    <tr style=\"text-align: right;\">\n",
       "      <th></th>\n",
       "      <th>component_1</th>\n",
       "      <th>component_2</th>\n",
       "      <th>component_3</th>\n",
       "      <th>component_4</th>\n",
       "      <th>component_5</th>\n",
       "    </tr>\n",
       "  </thead>\n",
       "  <tbody>\n",
       "    <tr>\n",
       "      <th>0</th>\n",
       "      <td>3.77471</td>\n",
       "      <td>0.06970</td>\n",
       "      <td>0.08671</td>\n",
       "      <td>0.45318</td>\n",
       "      <td>0.00000</td>\n",
       "    </tr>\n",
       "    <tr>\n",
       "      <th>1</th>\n",
       "      <td>13.02554</td>\n",
       "      <td>0.00000</td>\n",
       "      <td>0.00000</td>\n",
       "      <td>0.00000</td>\n",
       "      <td>0.00000</td>\n",
       "    </tr>\n",
       "    <tr>\n",
       "      <th>2</th>\n",
       "      <td>0.00000</td>\n",
       "      <td>10.17714</td>\n",
       "      <td>0.00000</td>\n",
       "      <td>0.00000</td>\n",
       "      <td>0.00000</td>\n",
       "    </tr>\n",
       "    <tr>\n",
       "      <th>3</th>\n",
       "      <td>0.00000</td>\n",
       "      <td>1.16866</td>\n",
       "      <td>0.00000</td>\n",
       "      <td>0.00000</td>\n",
       "      <td>7.05904</td>\n",
       "    </tr>\n",
       "    <tr>\n",
       "      <th>4</th>\n",
       "      <td>0.00000</td>\n",
       "      <td>0.80503</td>\n",
       "      <td>0.00000</td>\n",
       "      <td>0.00000</td>\n",
       "      <td>7.59910</td>\n",
       "    </tr>\n",
       "    <tr>\n",
       "      <th>5</th>\n",
       "      <td>0.00000</td>\n",
       "      <td>0.00000</td>\n",
       "      <td>0.27506</td>\n",
       "      <td>0.42627</td>\n",
       "      <td>7.96092</td>\n",
       "    </tr>\n",
       "    <tr>\n",
       "      <th>6</th>\n",
       "      <td>0.03999</td>\n",
       "      <td>0.00000</td>\n",
       "      <td>0.00000</td>\n",
       "      <td>0.46389</td>\n",
       "      <td>4.62745</td>\n",
       "    </tr>\n",
       "    <tr>\n",
       "      <th>7</th>\n",
       "      <td>0.00000</td>\n",
       "      <td>0.00000</td>\n",
       "      <td>8.59508</td>\n",
       "      <td>0.00000</td>\n",
       "      <td>0.00000</td>\n",
       "    </tr>\n",
       "    <tr>\n",
       "      <th>8</th>\n",
       "      <td>0.00000</td>\n",
       "      <td>0.00000</td>\n",
       "      <td>6.00233</td>\n",
       "      <td>0.06264</td>\n",
       "      <td>0.14887</td>\n",
       "    </tr>\n",
       "    <tr>\n",
       "      <th>9</th>\n",
       "      <td>0.02177</td>\n",
       "      <td>0.08996</td>\n",
       "      <td>3.41399</td>\n",
       "      <td>0.14613</td>\n",
       "      <td>0.19954</td>\n",
       "    </tr>\n",
       "    <tr>\n",
       "      <th>10</th>\n",
       "      <td>0.00000</td>\n",
       "      <td>0.29878</td>\n",
       "      <td>2.32596</td>\n",
       "      <td>0.17049</td>\n",
       "      <td>0.00000</td>\n",
       "    </tr>\n",
       "    <tr>\n",
       "      <th>11</th>\n",
       "      <td>0.28209</td>\n",
       "      <td>0.22044</td>\n",
       "      <td>1.08483</td>\n",
       "      <td>0.21919</td>\n",
       "      <td>0.63821</td>\n",
       "    </tr>\n",
       "    <tr>\n",
       "      <th>12</th>\n",
       "      <td>0.66847</td>\n",
       "      <td>0.00000</td>\n",
       "      <td>0.14269</td>\n",
       "      <td>1.97817</td>\n",
       "      <td>0.45569</td>\n",
       "    </tr>\n",
       "    <tr>\n",
       "      <th>13</th>\n",
       "      <td>0.16123</td>\n",
       "      <td>0.28752</td>\n",
       "      <td>0.00000</td>\n",
       "      <td>5.54231</td>\n",
       "      <td>0.00000</td>\n",
       "    </tr>\n",
       "    <tr>\n",
       "      <th>14</th>\n",
       "      <td>0.41224</td>\n",
       "      <td>0.00000</td>\n",
       "      <td>0.06502</td>\n",
       "      <td>5.69402</td>\n",
       "      <td>0.31557</td>\n",
       "    </tr>\n",
       "    <tr>\n",
       "      <th>15</th>\n",
       "      <td>0.00000</td>\n",
       "      <td>0.00000</td>\n",
       "      <td>0.00000</td>\n",
       "      <td>5.55354</td>\n",
       "      <td>0.00000</td>\n",
       "    </tr>\n",
       "    <tr>\n",
       "      <th>16</th>\n",
       "      <td>0.00000</td>\n",
       "      <td>0.00000</td>\n",
       "      <td>0.00000</td>\n",
       "      <td>6.79379</td>\n",
       "      <td>0.00000</td>\n",
       "    </tr>\n",
       "  </tbody>\n",
       "</table>\n",
       "</div>"
      ],
      "text/plain": [
       "    component_1  component_2  component_3  component_4  component_5\n",
       "0       3.77471      0.06970      0.08671      0.45318      0.00000\n",
       "1      13.02554      0.00000      0.00000      0.00000      0.00000\n",
       "2       0.00000     10.17714      0.00000      0.00000      0.00000\n",
       "3       0.00000      1.16866      0.00000      0.00000      7.05904\n",
       "4       0.00000      0.80503      0.00000      0.00000      7.59910\n",
       "5       0.00000      0.00000      0.27506      0.42627      7.96092\n",
       "6       0.03999      0.00000      0.00000      0.46389      4.62745\n",
       "7       0.00000      0.00000      8.59508      0.00000      0.00000\n",
       "8       0.00000      0.00000      6.00233      0.06264      0.14887\n",
       "9       0.02177      0.08996      3.41399      0.14613      0.19954\n",
       "10      0.00000      0.29878      2.32596      0.17049      0.00000\n",
       "11      0.28209      0.22044      1.08483      0.21919      0.63821\n",
       "12      0.66847      0.00000      0.14269      1.97817      0.45569\n",
       "13      0.16123      0.28752      0.00000      5.54231      0.00000\n",
       "14      0.41224      0.00000      0.06502      5.69402      0.31557\n",
       "15      0.00000      0.00000      0.00000      5.55354      0.00000\n",
       "16      0.00000      0.00000      0.00000      6.79379      0.00000"
      ]
     },
     "execution_count": 101,
     "metadata": {},
     "output_type": "execute_result"
    }
   ],
   "source": [
    "doc_topic_EARLY_LATE = doc_topic_EARLY\n",
    "\n",
    "H = pd.DataFrame(doc_topic_LATE.round(5),\n",
    "#              index = ex_label,\n",
    "             columns = [\"component_1\", \"component_2\", 'component_3', 'component_4', 'component_5'])\n",
    "H"
   ]
  },
  {
   "cell_type": "code",
   "execution_count": 113,
   "metadata": {},
   "outputs": [
    {
     "ename": "AttributeError",
     "evalue": "'numpy.ndarray' object has no attribute 'append'",
     "output_type": "error",
     "traceback": [
      "\u001b[0;31m---------------------------------------------------------------------------\u001b[0m",
      "\u001b[0;31mAttributeError\u001b[0m                            Traceback (most recent call last)",
      "\u001b[0;32m<ipython-input-113-a583843a5d2d>\u001b[0m in \u001b[0;36m<module>\u001b[0;34m()\u001b[0m\n\u001b[1;32m      1\u001b[0m \u001b[0mo\u001b[0m \u001b[0;34m=\u001b[0m \u001b[0mnp\u001b[0m\u001b[0;34m.\u001b[0m\u001b[0marray\u001b[0m\u001b[0;34m(\u001b[0m\u001b[0;34m[\u001b[0m\u001b[0;36m1\u001b[0m\u001b[0;34m,\u001b[0m \u001b[0;36m2\u001b[0m\u001b[0;34m,\u001b[0m \u001b[0;36m3\u001b[0m\u001b[0;34m]\u001b[0m\u001b[0;34m)\u001b[0m\u001b[0;34m\u001b[0m\u001b[0;34m\u001b[0m\u001b[0m\n\u001b[1;32m      2\u001b[0m \u001b[0mp\u001b[0m \u001b[0;34m=\u001b[0m \u001b[0mnp\u001b[0m\u001b[0;34m.\u001b[0m\u001b[0marray\u001b[0m\u001b[0;34m(\u001b[0m\u001b[0;34m[\u001b[0m\u001b[0;36m4\u001b[0m\u001b[0;34m,\u001b[0m \u001b[0;36m5\u001b[0m\u001b[0;34m,\u001b[0m \u001b[0;36m6\u001b[0m\u001b[0;34m]\u001b[0m\u001b[0;34m)\u001b[0m\u001b[0;34m\u001b[0m\u001b[0;34m\u001b[0m\u001b[0m\n\u001b[0;32m----> 3\u001b[0;31m \u001b[0mo\u001b[0m\u001b[0;34m.\u001b[0m\u001b[0mappend\u001b[0m\u001b[0;34m(\u001b[0m\u001b[0mp\u001b[0m\u001b[0;34m)\u001b[0m\u001b[0;34m\u001b[0m\u001b[0;34m\u001b[0m\u001b[0m\n\u001b[0m",
      "\u001b[0;31mAttributeError\u001b[0m: 'numpy.ndarray' object has no attribute 'append'"
     ]
    }
   ],
   "source": [
    "o = np.array([1, 2, 3])\n",
    "p = np.array([4, 5, 6])"
   ]
  },
  {
   "cell_type": "markdown",
   "metadata": {},
   "source": [
    "# Topic Variation by Genre"
   ]
  },
  {
   "cell_type": "code",
   "execution_count": 31,
   "metadata": {},
   "outputs": [],
   "source": [
    "tragedy_names = [\n",
    "    'Romeo & Juliet',\n",
    "    'Hamlet', \n",
    "    'King Lear',\n",
    "    'The Tempest',\n",
    "    'Macbeth'\n",
    "]\n",
    "\n",
    "comedy_names = [\n",
    "    'Merchant of Venice',\n",
    "    'Midsummer Nights Dream',\n",
    "    'Two Noble Kinsmen',\n",
    "    'As You Like It'\n",
    "]"
   ]
  },
  {
   "cell_type": "code",
   "execution_count": 32,
   "metadata": {},
   "outputs": [],
   "source": [
    "tragedy_texts = []\n",
    "comedy_texts = []"
   ]
  },
  {
   "cell_type": "code",
   "execution_count": 33,
   "metadata": {},
   "outputs": [],
   "source": [
    "for act in all_acts:\n",
    "    if act['Title'] in tragedy_names:\n",
    "        tragedy_texts.append(act['Text'])\n",
    "    else:\n",
    "        comedy_texts.append(act['Text'])"
   ]
  },
  {
   "cell_type": "code",
   "execution_count": 34,
   "metadata": {},
   "outputs": [
    {
     "name": "stderr",
     "output_type": "stream",
     "text": [
      "/Users/joelporcaro/anaconda3/envs/metis/lib/python3.6/site-packages/sklearn/feature_extraction/text.py:300: UserWarning: Your stop_words may be inconsistent with your preprocessing. Tokenizing the stop words generated tokens ['exeunt', 'prologue', 'serv'] not in stop_words.\n",
      "  'stop_words.' % sorted(inconsistent))\n"
     ]
    },
    {
     "name": "stdout",
     "output_type": "stream",
     "text": [
      "(22, 2784)\n",
      "(20, 3891)\n"
     ]
    }
   ],
   "source": [
    "count_vectorizer_TRAGEDY = CountVectorizer(stop_words=union_stop_words, token_pattern=\"\\\\b[a-z][a-z]+\\\\b\", min_df=0.1, max_df=0.9, ngram_range=(1,2))\n",
    "count_vectorizer_TRAGEDY.fit(tragedy_texts)\n",
    "doc_word_TRAGEDY = count_vectorizer_TRAGEDY.transform(tragedy_texts)\n",
    "\n",
    "count_vectorizer_COMEDY = CountVectorizer(stop_words=union_stop_words, token_pattern=\"\\\\b[a-z][a-z]+\\\\b\", min_df=0.1, max_df=0.9, ngram_range=(1,2))\n",
    "count_vectorizer_COMEDY.fit(comedy_texts)\n",
    "doc_word_COMEDY = count_vectorizer_COMEDY.transform(comedy_texts)\n",
    "\n",
    "print(doc_word_TRAGEDY.shape)\n",
    "print(doc_word_COMEDY.shape)"
   ]
  },
  {
   "cell_type": "code",
   "execution_count": 67,
   "metadata": {},
   "outputs": [],
   "source": [
    "nmf_model_TRAGEDY = NMF(5)\n",
    "doc_topic_TRAGEDY = nmf_model_TRAGEDY.fit_transform(doc_word_TRAGEDY)\n",
    "\n",
    "nmf_model_COMEDY = NMF(5)\n",
    "doc_topic_COMEDY = nmf_model_COMEDY.fit_transform(doc_word_COMEDY)"
   ]
  },
  {
   "cell_type": "code",
   "execution_count": 68,
   "metadata": {},
   "outputs": [],
   "source": [
    "topic_word_TRAGEDY = pd.DataFrame(nmf_model_TRAGEDY.components_.round(2),\n",
    "                                index = [\"component_1\", \"component_2\", 'component_3', 'component_4', 'component_5'],\n",
    "                                columns = count_vectorizer_TRAGEDY.get_feature_names())\n",
    "\n",
    "topic_word_COMEDY = pd.DataFrame(nmf_model_COMEDY.components_.round(2),\n",
    "                                index = [\"component_1\", \"component_2\", 'component_3', 'component_4', 'component_5'],\n",
    "                                columns = count_vectorizer_COMEDY.get_feature_names())"
   ]
  },
  {
   "cell_type": "code",
   "execution_count": 69,
   "metadata": {
    "scrolled": true
   },
   "outputs": [
    {
     "data": {
      "text/html": [
       "<div>\n",
       "<style scoped>\n",
       "    .dataframe tbody tr th:only-of-type {\n",
       "        vertical-align: middle;\n",
       "    }\n",
       "\n",
       "    .dataframe tbody tr th {\n",
       "        vertical-align: top;\n",
       "    }\n",
       "\n",
       "    .dataframe thead th {\n",
       "        text-align: right;\n",
       "    }\n",
       "</style>\n",
       "<table border=\"1\" class=\"dataframe\">\n",
       "  <thead>\n",
       "    <tr style=\"text-align: right;\">\n",
       "      <th></th>\n",
       "      <th>abhorred</th>\n",
       "      <th>abide</th>\n",
       "      <th>able</th>\n",
       "      <th>aboue</th>\n",
       "      <th>abroad</th>\n",
       "      <th>absolute</th>\n",
       "      <th>abusd</th>\n",
       "      <th>abuse</th>\n",
       "      <th>abuses</th>\n",
       "      <th>accent</th>\n",
       "      <th>...</th>\n",
       "      <th>yond</th>\n",
       "      <th>yong</th>\n",
       "      <th>youl</th>\n",
       "      <th>youll</th>\n",
       "      <th>youmacb</th>\n",
       "      <th>young</th>\n",
       "      <th>younger</th>\n",
       "      <th>youngest</th>\n",
       "      <th>youth</th>\n",
       "      <th>youthful</th>\n",
       "    </tr>\n",
       "  </thead>\n",
       "  <tbody>\n",
       "    <tr>\n",
       "      <th>component_1</th>\n",
       "      <td>0.00</td>\n",
       "      <td>0.02</td>\n",
       "      <td>0.00</td>\n",
       "      <td>0.25</td>\n",
       "      <td>0.03</td>\n",
       "      <td>0.11</td>\n",
       "      <td>0.02</td>\n",
       "      <td>0.08</td>\n",
       "      <td>0.07</td>\n",
       "      <td>0.15</td>\n",
       "      <td>...</td>\n",
       "      <td>0.01</td>\n",
       "      <td>0.58</td>\n",
       "      <td>0.23</td>\n",
       "      <td>0.00</td>\n",
       "      <td>0.04</td>\n",
       "      <td>0.41</td>\n",
       "      <td>0.00</td>\n",
       "      <td>0.00</td>\n",
       "      <td>0.77</td>\n",
       "      <td>0.00</td>\n",
       "    </tr>\n",
       "    <tr>\n",
       "      <th>component_2</th>\n",
       "      <td>0.00</td>\n",
       "      <td>0.00</td>\n",
       "      <td>0.05</td>\n",
       "      <td>0.00</td>\n",
       "      <td>0.07</td>\n",
       "      <td>0.00</td>\n",
       "      <td>0.00</td>\n",
       "      <td>0.05</td>\n",
       "      <td>0.00</td>\n",
       "      <td>0.06</td>\n",
       "      <td>...</td>\n",
       "      <td>0.02</td>\n",
       "      <td>0.00</td>\n",
       "      <td>0.00</td>\n",
       "      <td>0.21</td>\n",
       "      <td>0.00</td>\n",
       "      <td>1.25</td>\n",
       "      <td>0.14</td>\n",
       "      <td>0.07</td>\n",
       "      <td>0.09</td>\n",
       "      <td>0.06</td>\n",
       "    </tr>\n",
       "    <tr>\n",
       "      <th>component_3</th>\n",
       "      <td>0.05</td>\n",
       "      <td>0.00</td>\n",
       "      <td>0.02</td>\n",
       "      <td>0.00</td>\n",
       "      <td>0.02</td>\n",
       "      <td>0.01</td>\n",
       "      <td>0.20</td>\n",
       "      <td>0.02</td>\n",
       "      <td>0.00</td>\n",
       "      <td>0.03</td>\n",
       "      <td>...</td>\n",
       "      <td>0.06</td>\n",
       "      <td>0.00</td>\n",
       "      <td>0.00</td>\n",
       "      <td>0.12</td>\n",
       "      <td>0.00</td>\n",
       "      <td>0.45</td>\n",
       "      <td>0.09</td>\n",
       "      <td>0.16</td>\n",
       "      <td>0.04</td>\n",
       "      <td>0.00</td>\n",
       "    </tr>\n",
       "    <tr>\n",
       "      <th>component_4</th>\n",
       "      <td>0.07</td>\n",
       "      <td>0.08</td>\n",
       "      <td>0.00</td>\n",
       "      <td>0.00</td>\n",
       "      <td>0.04</td>\n",
       "      <td>0.00</td>\n",
       "      <td>0.00</td>\n",
       "      <td>0.01</td>\n",
       "      <td>0.00</td>\n",
       "      <td>0.00</td>\n",
       "      <td>...</td>\n",
       "      <td>0.24</td>\n",
       "      <td>0.00</td>\n",
       "      <td>0.00</td>\n",
       "      <td>0.00</td>\n",
       "      <td>0.00</td>\n",
       "      <td>0.00</td>\n",
       "      <td>0.00</td>\n",
       "      <td>0.00</td>\n",
       "      <td>0.00</td>\n",
       "      <td>0.00</td>\n",
       "    </tr>\n",
       "    <tr>\n",
       "      <th>component_5</th>\n",
       "      <td>0.03</td>\n",
       "      <td>0.00</td>\n",
       "      <td>0.04</td>\n",
       "      <td>0.00</td>\n",
       "      <td>0.13</td>\n",
       "      <td>0.01</td>\n",
       "      <td>0.04</td>\n",
       "      <td>0.02</td>\n",
       "      <td>0.07</td>\n",
       "      <td>0.00</td>\n",
       "      <td>...</td>\n",
       "      <td>0.24</td>\n",
       "      <td>0.00</td>\n",
       "      <td>0.00</td>\n",
       "      <td>0.00</td>\n",
       "      <td>0.01</td>\n",
       "      <td>0.02</td>\n",
       "      <td>0.00</td>\n",
       "      <td>0.00</td>\n",
       "      <td>0.12</td>\n",
       "      <td>0.08</td>\n",
       "    </tr>\n",
       "  </tbody>\n",
       "</table>\n",
       "<p>5 rows × 2784 columns</p>\n",
       "</div>"
      ],
      "text/plain": [
       "             abhorred  abide  able  aboue  abroad  absolute  abusd  abuse  \\\n",
       "component_1      0.00   0.02  0.00   0.25    0.03      0.11   0.02   0.08   \n",
       "component_2      0.00   0.00  0.05   0.00    0.07      0.00   0.00   0.05   \n",
       "component_3      0.05   0.00  0.02   0.00    0.02      0.01   0.20   0.02   \n",
       "component_4      0.07   0.08  0.00   0.00    0.04      0.00   0.00   0.01   \n",
       "component_5      0.03   0.00  0.04   0.00    0.13      0.01   0.04   0.02   \n",
       "\n",
       "             abuses  accent  ...  yond  yong  youl  youll  youmacb  young  \\\n",
       "component_1    0.07    0.15  ...  0.01  0.58  0.23   0.00     0.04   0.41   \n",
       "component_2    0.00    0.06  ...  0.02  0.00  0.00   0.21     0.00   1.25   \n",
       "component_3    0.00    0.03  ...  0.06  0.00  0.00   0.12     0.00   0.45   \n",
       "component_4    0.00    0.00  ...  0.24  0.00  0.00   0.00     0.00   0.00   \n",
       "component_5    0.07    0.00  ...  0.24  0.00  0.00   0.00     0.01   0.02   \n",
       "\n",
       "             younger  youngest  youth  youthful  \n",
       "component_1     0.00      0.00   0.77      0.00  \n",
       "component_2     0.14      0.07   0.09      0.06  \n",
       "component_3     0.09      0.16   0.04      0.00  \n",
       "component_4     0.00      0.00   0.00      0.00  \n",
       "component_5     0.00      0.00   0.12      0.08  \n",
       "\n",
       "[5 rows x 2784 columns]"
      ]
     },
     "execution_count": 69,
     "metadata": {},
     "output_type": "execute_result"
    }
   ],
   "source": [
    "topic_word_TRAGEDY"
   ]
  },
  {
   "cell_type": "code",
   "execution_count": 70,
   "metadata": {},
   "outputs": [
    {
     "data": {
      "text/html": [
       "<div>\n",
       "<style scoped>\n",
       "    .dataframe tbody tr th:only-of-type {\n",
       "        vertical-align: middle;\n",
       "    }\n",
       "\n",
       "    .dataframe tbody tr th {\n",
       "        vertical-align: top;\n",
       "    }\n",
       "\n",
       "    .dataframe thead th {\n",
       "        text-align: right;\n",
       "    }\n",
       "</style>\n",
       "<table border=\"1\" class=\"dataframe\">\n",
       "  <thead>\n",
       "    <tr style=\"text-align: right;\">\n",
       "      <th></th>\n",
       "      <th>abate</th>\n",
       "      <th>abide</th>\n",
       "      <th>able</th>\n",
       "      <th>able discharge</th>\n",
       "      <th>aboue</th>\n",
       "      <th>abroad</th>\n",
       "      <th>abroade</th>\n",
       "      <th>absence</th>\n",
       "      <th>absent</th>\n",
       "      <th>abusd</th>\n",
       "      <th>...</th>\n",
       "      <th>young maid</th>\n",
       "      <th>young master</th>\n",
       "      <th>younger</th>\n",
       "      <th>younot</th>\n",
       "      <th>younot denie</th>\n",
       "      <th>youof</th>\n",
       "      <th>youpor</th>\n",
       "      <th>youth</th>\n",
       "      <th>youthful</th>\n",
       "      <th>zeale</th>\n",
       "    </tr>\n",
       "  </thead>\n",
       "  <tbody>\n",
       "    <tr>\n",
       "      <th>component_1</th>\n",
       "      <td>0.02</td>\n",
       "      <td>0.10</td>\n",
       "      <td>0.08</td>\n",
       "      <td>0.05</td>\n",
       "      <td>0.18</td>\n",
       "      <td>0.13</td>\n",
       "      <td>0.00</td>\n",
       "      <td>0.12</td>\n",
       "      <td>0.05</td>\n",
       "      <td>0.00</td>\n",
       "      <td>...</td>\n",
       "      <td>0.00</td>\n",
       "      <td>0.00</td>\n",
       "      <td>0.00</td>\n",
       "      <td>0.12</td>\n",
       "      <td>0.12</td>\n",
       "      <td>0.00</td>\n",
       "      <td>0.19</td>\n",
       "      <td>0.33</td>\n",
       "      <td>0.02</td>\n",
       "      <td>0.02</td>\n",
       "    </tr>\n",
       "    <tr>\n",
       "      <th>component_2</th>\n",
       "      <td>0.00</td>\n",
       "      <td>0.00</td>\n",
       "      <td>0.02</td>\n",
       "      <td>0.00</td>\n",
       "      <td>0.00</td>\n",
       "      <td>0.00</td>\n",
       "      <td>0.00</td>\n",
       "      <td>0.02</td>\n",
       "      <td>0.10</td>\n",
       "      <td>0.07</td>\n",
       "      <td>...</td>\n",
       "      <td>0.09</td>\n",
       "      <td>0.09</td>\n",
       "      <td>0.06</td>\n",
       "      <td>0.00</td>\n",
       "      <td>0.00</td>\n",
       "      <td>0.00</td>\n",
       "      <td>0.00</td>\n",
       "      <td>1.07</td>\n",
       "      <td>0.05</td>\n",
       "      <td>0.00</td>\n",
       "    </tr>\n",
       "    <tr>\n",
       "      <th>component_3</th>\n",
       "      <td>0.00</td>\n",
       "      <td>0.00</td>\n",
       "      <td>0.08</td>\n",
       "      <td>0.00</td>\n",
       "      <td>0.00</td>\n",
       "      <td>0.07</td>\n",
       "      <td>0.07</td>\n",
       "      <td>0.00</td>\n",
       "      <td>0.01</td>\n",
       "      <td>0.00</td>\n",
       "      <td>...</td>\n",
       "      <td>0.00</td>\n",
       "      <td>0.00</td>\n",
       "      <td>0.00</td>\n",
       "      <td>0.00</td>\n",
       "      <td>0.00</td>\n",
       "      <td>0.03</td>\n",
       "      <td>0.00</td>\n",
       "      <td>0.12</td>\n",
       "      <td>0.00</td>\n",
       "      <td>0.01</td>\n",
       "    </tr>\n",
       "    <tr>\n",
       "      <th>component_4</th>\n",
       "      <td>0.07</td>\n",
       "      <td>0.25</td>\n",
       "      <td>0.04</td>\n",
       "      <td>0.02</td>\n",
       "      <td>0.00</td>\n",
       "      <td>0.01</td>\n",
       "      <td>0.00</td>\n",
       "      <td>0.07</td>\n",
       "      <td>0.02</td>\n",
       "      <td>0.03</td>\n",
       "      <td>...</td>\n",
       "      <td>0.00</td>\n",
       "      <td>0.00</td>\n",
       "      <td>0.00</td>\n",
       "      <td>0.00</td>\n",
       "      <td>0.00</td>\n",
       "      <td>0.02</td>\n",
       "      <td>0.00</td>\n",
       "      <td>0.24</td>\n",
       "      <td>0.01</td>\n",
       "      <td>0.02</td>\n",
       "    </tr>\n",
       "    <tr>\n",
       "      <th>component_5</th>\n",
       "      <td>0.00</td>\n",
       "      <td>0.00</td>\n",
       "      <td>0.03</td>\n",
       "      <td>0.00</td>\n",
       "      <td>0.00</td>\n",
       "      <td>0.00</td>\n",
       "      <td>0.00</td>\n",
       "      <td>0.02</td>\n",
       "      <td>0.01</td>\n",
       "      <td>0.00</td>\n",
       "      <td>...</td>\n",
       "      <td>0.01</td>\n",
       "      <td>0.01</td>\n",
       "      <td>0.19</td>\n",
       "      <td>0.00</td>\n",
       "      <td>0.00</td>\n",
       "      <td>0.00</td>\n",
       "      <td>0.00</td>\n",
       "      <td>0.35</td>\n",
       "      <td>0.06</td>\n",
       "      <td>0.00</td>\n",
       "    </tr>\n",
       "  </tbody>\n",
       "</table>\n",
       "<p>5 rows × 3891 columns</p>\n",
       "</div>"
      ],
      "text/plain": [
       "             abate  abide  able  able discharge  aboue  abroad  abroade  \\\n",
       "component_1   0.02   0.10  0.08            0.05   0.18    0.13     0.00   \n",
       "component_2   0.00   0.00  0.02            0.00   0.00    0.00     0.00   \n",
       "component_3   0.00   0.00  0.08            0.00   0.00    0.07     0.07   \n",
       "component_4   0.07   0.25  0.04            0.02   0.00    0.01     0.00   \n",
       "component_5   0.00   0.00  0.03            0.00   0.00    0.00     0.00   \n",
       "\n",
       "             absence  absent  abusd  ...  young maid  young master  younger  \\\n",
       "component_1     0.12    0.05   0.00  ...        0.00          0.00     0.00   \n",
       "component_2     0.02    0.10   0.07  ...        0.09          0.09     0.06   \n",
       "component_3     0.00    0.01   0.00  ...        0.00          0.00     0.00   \n",
       "component_4     0.07    0.02   0.03  ...        0.00          0.00     0.00   \n",
       "component_5     0.02    0.01   0.00  ...        0.01          0.01     0.19   \n",
       "\n",
       "             younot  younot denie  youof  youpor  youth  youthful  zeale  \n",
       "component_1    0.12          0.12   0.00    0.19   0.33      0.02   0.02  \n",
       "component_2    0.00          0.00   0.00    0.00   1.07      0.05   0.00  \n",
       "component_3    0.00          0.00   0.03    0.00   0.12      0.00   0.01  \n",
       "component_4    0.00          0.00   0.02    0.00   0.24      0.01   0.02  \n",
       "component_5    0.00          0.00   0.00    0.00   0.35      0.06   0.00  \n",
       "\n",
       "[5 rows x 3891 columns]"
      ]
     },
     "execution_count": 70,
     "metadata": {},
     "output_type": "execute_result"
    }
   ],
   "source": [
    "topic_word_COMEDY"
   ]
  },
  {
   "cell_type": "code",
   "execution_count": 71,
   "metadata": {},
   "outputs": [
    {
     "name": "stdout",
     "output_type": "stream",
     "text": [
      "\n",
      "Topic  0\n",
      "king, selfe, play, queene, speake, father, mother, heauen, thinke, looke, owne, soule, heare, dead, leaue\n",
      "\n",
      "Topic  1\n",
      "love, ben, mer, fair, ill, lady, young, god, serv, light, wilt, capulet, house, exeunt, peace\n",
      "\n",
      "Topic  2\n",
      "fool, father, king, ill, corn, love, speak, poor, nature, france, osw, daughter, alb, cor, goneril\n",
      "\n",
      "Topic  3\n",
      "pope, conj, hanmer, om, sea, monster, king, collier, island, speak, master, om pope, note, spirit, johnson\n",
      "\n",
      "Topic  4\n",
      "friar, ill, lady, dead, love, look, prince, heaven, father, madam, die, slain, speak, blood, tears\n"
     ]
    }
   ],
   "source": [
    "display_topics(nmf_model_TRAGEDY, count_vectorizer_TRAGEDY.get_feature_names(), 15)"
   ]
  },
  {
   "cell_type": "code",
   "execution_count": 72,
   "metadata": {},
   "outputs": [
    {
     "name": "stdout",
     "output_type": "stream",
     "text": [
      "\n",
      "Topic  0\n",
      "iew, goe, faire, selfe, choose, iessica, neuer, bond, portia, father, lorenzo, old, maister, christian, exeunt\n",
      "\n",
      "Topic  1\n",
      "love, touchstone, ill, corin, duke, shepherd, forest, youth, think, senior, duke senior, woman, truly, look, fool\n",
      "\n",
      "Topic  2\n",
      "daughter, love, iailor, wooer, friend, cosen, doctor, faire, em, goe, noble, thinke, againe, oth, great\n",
      "\n",
      "Topic  3\n",
      "lysander, night, hermia, moone, neuer, piramus, wall, faire, looke, speake, play, helena, sweet, light, louers\n",
      "\n",
      "Topic  4\n",
      "father, duke, frederick, charles, le, young, old, brother, love, speak, adam, ill, better, fool, daughter\n"
     ]
    }
   ],
   "source": [
    "display_topics(nmf_model_COMEDY, count_vectorizer_COMEDY.get_feature_names(), 15)"
   ]
  },
  {
   "cell_type": "code",
   "execution_count": 41,
   "metadata": {},
   "outputs": [
    {
     "ename": "NameError",
     "evalue": "name 's' is not defined",
     "output_type": "error",
     "traceback": [
      "\u001b[0;31m---------------------------------------------------------------------------\u001b[0m",
      "\u001b[0;31mNameError\u001b[0m                                 Traceback (most recent call last)",
      "\u001b[0;32m<ipython-input-41-7dbea4fc72ee>\u001b[0m in \u001b[0;36m<module>\u001b[0;34m()\u001b[0m\n\u001b[0;32m----> 1\u001b[0;31m \u001b[0mwordcloud\u001b[0m \u001b[0;34m=\u001b[0m \u001b[0mWordCloud\u001b[0m\u001b[0;34m(\u001b[0m\u001b[0;34m)\u001b[0m\u001b[0;34m.\u001b[0m\u001b[0mgenerate\u001b[0m\u001b[0;34m(\u001b[0m\u001b[0ms\u001b[0m\u001b[0;34m)\u001b[0m\u001b[0;34m\u001b[0m\u001b[0;34m\u001b[0m\u001b[0m\n\u001b[0m",
      "\u001b[0;31mNameError\u001b[0m: name 's' is not defined"
     ]
    }
   ],
   "source": [
    "wordcloud = WordCloud().generate(s)"
   ]
  },
  {
   "cell_type": "code",
   "execution_count": null,
   "metadata": {},
   "outputs": [],
   "source": []
  },
  {
   "cell_type": "markdown",
   "metadata": {},
   "source": [
    "# What's the thematic progression of a Shakespeare play?"
   ]
  },
  {
   "cell_type": "code",
   "execution_count": 42,
   "metadata": {},
   "outputs": [],
   "source": [
    "first_acts_names = [\n",
    "    all_acts[0], # Rome & Juliet\n",
    "    all_acts[1],\n",
    "    all_acts[2],\n",
    "    all_acts[7], # King Lear\n",
    "    all_acts[8],\n",
    "    all_acts[9],\n",
    "    all_acts[12], # Merchant of Venice\n",
    "    all_acts[13],\n",
    "    all_acts[14], \n",
    "    all_acts[17], # Midsummer Night's Dream\n",
    "    all_acts[18],\n",
    "    all_acts[19], \n",
    "    all_acts[22], # The Tempest\n",
    "    all_acts[23],\n",
    "    all_acts[24],\n",
    "    all_acts[27], # Two Noble Kinsmen\n",
    "    all_acts[28],\n",
    "    all_acts[29],\n",
    "    all_acts[32], # Macbeth\n",
    "    all_acts[33],\n",
    "    all_acts[34],\n",
    "    all_acts[37], # As You Like It\n",
    "    all_acts[38],\n",
    "    all_acts[39]\n",
    "]\n",
    "\n",
    "last_acts_names = [\n",
    "    all_acts[3], # Romeo & Juliet\n",
    "    all_acts[4],\n",
    "    all_acts[10], # King Lear\n",
    "    all_acts[11],\n",
    "    all_acts[15], # Merchant of Venice\n",
    "    all_acts[16],\n",
    "    all_acts[20], # Midsummer Night's Dream\n",
    "    all_acts[21],\n",
    "    all_acts[25], # The Tempest\n",
    "    all_acts[26],\n",
    "    all_acts[30], # Two Noble Kinsmen\n",
    "    all_acts[31],\n",
    "    all_acts[35], # Macbeth\n",
    "    all_acts[36],\n",
    "    all_acts[40], # As You Like It\n",
    "    all_acts[41]\n",
    "]"
   ]
  },
  {
   "cell_type": "code",
   "execution_count": 43,
   "metadata": {},
   "outputs": [],
   "source": [
    "first_acts_text = []\n",
    "last_acts_text = []"
   ]
  },
  {
   "cell_type": "code",
   "execution_count": 44,
   "metadata": {},
   "outputs": [],
   "source": [
    "for act in first_acts_names:\n",
    "    first_acts_text.append(act['Text'])\n",
    "    \n",
    "for act in last_acts_names:\n",
    "    last_acts_text.append(act['Text'])"
   ]
  },
  {
   "cell_type": "code",
   "execution_count": 45,
   "metadata": {},
   "outputs": [
    {
     "name": "stderr",
     "output_type": "stream",
     "text": [
      "/Users/joelporcaro/anaconda3/envs/metis/lib/python3.6/site-packages/sklearn/feature_extraction/text.py:300: UserWarning: Your stop_words may be inconsistent with your preprocessing. Tokenizing the stop words generated tokens ['exeunt', 'prologue', 'serv'] not in stop_words.\n",
      "  'stop_words.' % sorted(inconsistent))\n"
     ]
    },
    {
     "name": "stdout",
     "output_type": "stream",
     "text": [
      "(24, 2751)\n",
      "(16, 2730)\n"
     ]
    }
   ],
   "source": [
    "count_vectorizer_FIRST = CountVectorizer(stop_words=union_stop_words, token_pattern=\"\\\\b[a-z][a-z]+\\\\b\", min_df=0.1, max_df=0.9, ngram_range=(1,2))\n",
    "count_vectorizer_FIRST.fit(first_acts_text)\n",
    "doc_word_FIRST = count_vectorizer_FIRST.transform(first_acts_text)\n",
    "\n",
    "count_vectorizer_LAST = CountVectorizer(stop_words=union_stop_words, token_pattern=\"\\\\b[a-z][a-z]+\\\\b\", min_df=0.1, max_df=0.9, ngram_range=(1,2))\n",
    "count_vectorizer_LAST.fit(last_acts_text)\n",
    "doc_word_LAST = count_vectorizer_LAST.transform(last_acts_text)\n",
    "\n",
    "print(doc_word_FIRST.shape)\n",
    "print(doc_word_LAST.shape)"
   ]
  },
  {
   "cell_type": "code",
   "execution_count": 61,
   "metadata": {},
   "outputs": [],
   "source": [
    "nmf_model_FIRST = NMF(5)\n",
    "doc_topic_FIRST = nmf_model_FIRST.fit_transform(doc_word_FIRST)\n",
    "\n",
    "nmf_model_LAST = NMF(5)\n",
    "doc_topic_LAST = nmf_model_LAST.fit_transform(doc_word_LAST)"
   ]
  },
  {
   "cell_type": "code",
   "execution_count": 62,
   "metadata": {},
   "outputs": [],
   "source": [
    "topic_word_FIRST = pd.DataFrame(nmf_model_FIRST.components_.round(2),\n",
    "                                index = [\"component_1\", \"component_2\", 'component_3', 'component_4', 'component_5'],\n",
    "                                columns = count_vectorizer_FIRST.get_feature_names())\n",
    "\n",
    "topic_word_LAST = pd.DataFrame(nmf_model_LAST.components_.round(2),\n",
    "                                index = [\"component_1\", \"component_2\", 'component_3', 'component_4', 'component_5'],\n",
    "                                columns = count_vectorizer_LAST.get_feature_names())\n",
    "# , 'component_6', 'component_7', 'component_8'"
   ]
  },
  {
   "cell_type": "code",
   "execution_count": 63,
   "metadata": {},
   "outputs": [
    {
     "data": {
      "text/html": [
       "<div>\n",
       "<style scoped>\n",
       "    .dataframe tbody tr th:only-of-type {\n",
       "        vertical-align: middle;\n",
       "    }\n",
       "\n",
       "    .dataframe tbody tr th {\n",
       "        vertical-align: top;\n",
       "    }\n",
       "\n",
       "    .dataframe thead th {\n",
       "        text-align: right;\n",
       "    }\n",
       "</style>\n",
       "<table border=\"1\" class=\"dataframe\">\n",
       "  <thead>\n",
       "    <tr style=\"text-align: right;\">\n",
       "      <th></th>\n",
       "      <th>abide</th>\n",
       "      <th>able</th>\n",
       "      <th>aboard</th>\n",
       "      <th>abroad</th>\n",
       "      <th>absence</th>\n",
       "      <th>absent</th>\n",
       "      <th>absolute</th>\n",
       "      <th>abusd</th>\n",
       "      <th>accent</th>\n",
       "      <th>according</th>\n",
       "      <th>...</th>\n",
       "      <th>yong</th>\n",
       "      <th>yong men</th>\n",
       "      <th>youle</th>\n",
       "      <th>youll</th>\n",
       "      <th>young</th>\n",
       "      <th>young master</th>\n",
       "      <th>younger</th>\n",
       "      <th>youngest</th>\n",
       "      <th>youth</th>\n",
       "      <th>youthful</th>\n",
       "    </tr>\n",
       "  </thead>\n",
       "  <tbody>\n",
       "    <tr>\n",
       "      <th>component_1</th>\n",
       "      <td>0.00</td>\n",
       "      <td>0.05</td>\n",
       "      <td>0.06</td>\n",
       "      <td>0.17</td>\n",
       "      <td>0.00</td>\n",
       "      <td>0.00</td>\n",
       "      <td>0.00</td>\n",
       "      <td>0.00</td>\n",
       "      <td>0.06</td>\n",
       "      <td>0.05</td>\n",
       "      <td>...</td>\n",
       "      <td>0.00</td>\n",
       "      <td>0.00</td>\n",
       "      <td>0.00</td>\n",
       "      <td>0.17</td>\n",
       "      <td>1.13</td>\n",
       "      <td>0.00</td>\n",
       "      <td>0.10</td>\n",
       "      <td>0.03</td>\n",
       "      <td>0.07</td>\n",
       "      <td>0.11</td>\n",
       "    </tr>\n",
       "    <tr>\n",
       "      <th>component_2</th>\n",
       "      <td>0.00</td>\n",
       "      <td>0.00</td>\n",
       "      <td>0.00</td>\n",
       "      <td>0.04</td>\n",
       "      <td>0.00</td>\n",
       "      <td>0.00</td>\n",
       "      <td>0.00</td>\n",
       "      <td>0.17</td>\n",
       "      <td>0.03</td>\n",
       "      <td>0.06</td>\n",
       "      <td>...</td>\n",
       "      <td>0.00</td>\n",
       "      <td>0.00</td>\n",
       "      <td>0.00</td>\n",
       "      <td>0.11</td>\n",
       "      <td>0.55</td>\n",
       "      <td>0.03</td>\n",
       "      <td>0.10</td>\n",
       "      <td>0.18</td>\n",
       "      <td>0.00</td>\n",
       "      <td>0.01</td>\n",
       "    </tr>\n",
       "    <tr>\n",
       "      <th>component_3</th>\n",
       "      <td>0.19</td>\n",
       "      <td>0.04</td>\n",
       "      <td>0.02</td>\n",
       "      <td>0.11</td>\n",
       "      <td>0.13</td>\n",
       "      <td>0.00</td>\n",
       "      <td>0.07</td>\n",
       "      <td>0.01</td>\n",
       "      <td>0.00</td>\n",
       "      <td>0.12</td>\n",
       "      <td>...</td>\n",
       "      <td>0.74</td>\n",
       "      <td>0.09</td>\n",
       "      <td>0.07</td>\n",
       "      <td>0.00</td>\n",
       "      <td>0.00</td>\n",
       "      <td>0.00</td>\n",
       "      <td>0.00</td>\n",
       "      <td>0.00</td>\n",
       "      <td>0.22</td>\n",
       "      <td>0.00</td>\n",
       "    </tr>\n",
       "    <tr>\n",
       "      <th>component_4</th>\n",
       "      <td>0.07</td>\n",
       "      <td>0.00</td>\n",
       "      <td>0.14</td>\n",
       "      <td>0.03</td>\n",
       "      <td>0.00</td>\n",
       "      <td>0.00</td>\n",
       "      <td>0.00</td>\n",
       "      <td>0.00</td>\n",
       "      <td>0.00</td>\n",
       "      <td>0.00</td>\n",
       "      <td>...</td>\n",
       "      <td>0.00</td>\n",
       "      <td>0.00</td>\n",
       "      <td>0.00</td>\n",
       "      <td>0.00</td>\n",
       "      <td>0.00</td>\n",
       "      <td>0.00</td>\n",
       "      <td>0.00</td>\n",
       "      <td>0.00</td>\n",
       "      <td>0.00</td>\n",
       "      <td>0.00</td>\n",
       "    </tr>\n",
       "    <tr>\n",
       "      <th>component_5</th>\n",
       "      <td>0.00</td>\n",
       "      <td>0.04</td>\n",
       "      <td>0.01</td>\n",
       "      <td>0.00</td>\n",
       "      <td>0.01</td>\n",
       "      <td>0.09</td>\n",
       "      <td>0.01</td>\n",
       "      <td>0.04</td>\n",
       "      <td>0.05</td>\n",
       "      <td>0.00</td>\n",
       "      <td>...</td>\n",
       "      <td>0.00</td>\n",
       "      <td>0.02</td>\n",
       "      <td>0.00</td>\n",
       "      <td>0.07</td>\n",
       "      <td>1.05</td>\n",
       "      <td>0.08</td>\n",
       "      <td>0.16</td>\n",
       "      <td>0.15</td>\n",
       "      <td>0.94</td>\n",
       "      <td>0.06</td>\n",
       "    </tr>\n",
       "  </tbody>\n",
       "</table>\n",
       "<p>5 rows × 2751 columns</p>\n",
       "</div>"
      ],
      "text/plain": [
       "             abide  able  aboard  abroad  absence  absent  absolute  abusd  \\\n",
       "component_1   0.00  0.05    0.06    0.17     0.00    0.00      0.00   0.00   \n",
       "component_2   0.00  0.00    0.00    0.04     0.00    0.00      0.00   0.17   \n",
       "component_3   0.19  0.04    0.02    0.11     0.13    0.00      0.07   0.01   \n",
       "component_4   0.07  0.00    0.14    0.03     0.00    0.00      0.00   0.00   \n",
       "component_5   0.00  0.04    0.01    0.00     0.01    0.09      0.01   0.04   \n",
       "\n",
       "             accent  according  ...  yong  yong men  youle  youll  young  \\\n",
       "component_1    0.06       0.05  ...  0.00      0.00   0.00   0.17   1.13   \n",
       "component_2    0.03       0.06  ...  0.00      0.00   0.00   0.11   0.55   \n",
       "component_3    0.00       0.12  ...  0.74      0.09   0.07   0.00   0.00   \n",
       "component_4    0.00       0.00  ...  0.00      0.00   0.00   0.00   0.00   \n",
       "component_5    0.05       0.00  ...  0.00      0.02   0.00   0.07   1.05   \n",
       "\n",
       "             young master  younger  youngest  youth  youthful  \n",
       "component_1          0.00     0.10      0.03   0.07      0.11  \n",
       "component_2          0.03     0.10      0.18   0.00      0.01  \n",
       "component_3          0.00     0.00      0.00   0.22      0.00  \n",
       "component_4          0.00     0.00      0.00   0.00      0.00  \n",
       "component_5          0.08     0.16      0.15   0.94      0.06  \n",
       "\n",
       "[5 rows x 2751 columns]"
      ]
     },
     "execution_count": 63,
     "metadata": {},
     "output_type": "execute_result"
    }
   ],
   "source": [
    "topic_word_FIRST"
   ]
  },
  {
   "cell_type": "code",
   "execution_count": 64,
   "metadata": {},
   "outputs": [
    {
     "data": {
      "text/html": [
       "<div>\n",
       "<style scoped>\n",
       "    .dataframe tbody tr th:only-of-type {\n",
       "        vertical-align: middle;\n",
       "    }\n",
       "\n",
       "    .dataframe tbody tr th {\n",
       "        vertical-align: top;\n",
       "    }\n",
       "\n",
       "    .dataframe thead th {\n",
       "        text-align: right;\n",
       "    }\n",
       "</style>\n",
       "<table border=\"1\" class=\"dataframe\">\n",
       "  <thead>\n",
       "    <tr style=\"text-align: right;\">\n",
       "      <th></th>\n",
       "      <th>abate</th>\n",
       "      <th>abhorred</th>\n",
       "      <th>abide</th>\n",
       "      <th>able</th>\n",
       "      <th>able discharge</th>\n",
       "      <th>abroad</th>\n",
       "      <th>absent</th>\n",
       "      <th>absolute</th>\n",
       "      <th>abusd</th>\n",
       "      <th>abuse</th>\n",
       "      <th>...</th>\n",
       "      <th>yew</th>\n",
       "      <th>yond</th>\n",
       "      <th>yong</th>\n",
       "      <th>youl</th>\n",
       "      <th>youl finde</th>\n",
       "      <th>youll</th>\n",
       "      <th>young</th>\n",
       "      <th>youth</th>\n",
       "      <th>youthe</th>\n",
       "      <th>youthful</th>\n",
       "    </tr>\n",
       "  </thead>\n",
       "  <tbody>\n",
       "    <tr>\n",
       "      <th>component_1</th>\n",
       "      <td>0.11</td>\n",
       "      <td>0.09</td>\n",
       "      <td>0.00</td>\n",
       "      <td>0.09</td>\n",
       "      <td>0.00</td>\n",
       "      <td>0.10</td>\n",
       "      <td>0.00</td>\n",
       "      <td>0.00</td>\n",
       "      <td>0.10</td>\n",
       "      <td>0.00</td>\n",
       "      <td>...</td>\n",
       "      <td>0.19</td>\n",
       "      <td>0.18</td>\n",
       "      <td>0.00</td>\n",
       "      <td>0.00</td>\n",
       "      <td>0.00</td>\n",
       "      <td>0.06</td>\n",
       "      <td>0.09</td>\n",
       "      <td>0.35</td>\n",
       "      <td>0.00</td>\n",
       "      <td>0.11</td>\n",
       "    </tr>\n",
       "    <tr>\n",
       "      <th>component_2</th>\n",
       "      <td>0.00</td>\n",
       "      <td>0.00</td>\n",
       "      <td>0.00</td>\n",
       "      <td>0.07</td>\n",
       "      <td>0.00</td>\n",
       "      <td>0.07</td>\n",
       "      <td>0.00</td>\n",
       "      <td>0.00</td>\n",
       "      <td>0.00</td>\n",
       "      <td>0.07</td>\n",
       "      <td>...</td>\n",
       "      <td>0.00</td>\n",
       "      <td>0.00</td>\n",
       "      <td>0.68</td>\n",
       "      <td>0.32</td>\n",
       "      <td>0.13</td>\n",
       "      <td>0.00</td>\n",
       "      <td>0.06</td>\n",
       "      <td>0.10</td>\n",
       "      <td>0.07</td>\n",
       "      <td>0.00</td>\n",
       "    </tr>\n",
       "    <tr>\n",
       "      <th>component_3</th>\n",
       "      <td>0.04</td>\n",
       "      <td>0.04</td>\n",
       "      <td>0.14</td>\n",
       "      <td>0.11</td>\n",
       "      <td>0.09</td>\n",
       "      <td>0.07</td>\n",
       "      <td>0.12</td>\n",
       "      <td>0.06</td>\n",
       "      <td>0.00</td>\n",
       "      <td>0.00</td>\n",
       "      <td>...</td>\n",
       "      <td>0.06</td>\n",
       "      <td>0.00</td>\n",
       "      <td>0.44</td>\n",
       "      <td>0.19</td>\n",
       "      <td>0.00</td>\n",
       "      <td>0.00</td>\n",
       "      <td>0.25</td>\n",
       "      <td>0.20</td>\n",
       "      <td>0.00</td>\n",
       "      <td>0.04</td>\n",
       "    </tr>\n",
       "    <tr>\n",
       "      <th>component_4</th>\n",
       "      <td>0.00</td>\n",
       "      <td>0.00</td>\n",
       "      <td>0.01</td>\n",
       "      <td>0.07</td>\n",
       "      <td>0.00</td>\n",
       "      <td>0.01</td>\n",
       "      <td>0.00</td>\n",
       "      <td>0.06</td>\n",
       "      <td>0.08</td>\n",
       "      <td>0.09</td>\n",
       "      <td>...</td>\n",
       "      <td>0.00</td>\n",
       "      <td>0.31</td>\n",
       "      <td>0.00</td>\n",
       "      <td>0.00</td>\n",
       "      <td>0.00</td>\n",
       "      <td>0.02</td>\n",
       "      <td>0.05</td>\n",
       "      <td>0.03</td>\n",
       "      <td>0.08</td>\n",
       "      <td>0.00</td>\n",
       "    </tr>\n",
       "    <tr>\n",
       "      <th>component_5</th>\n",
       "      <td>0.00</td>\n",
       "      <td>0.00</td>\n",
       "      <td>0.00</td>\n",
       "      <td>0.00</td>\n",
       "      <td>0.00</td>\n",
       "      <td>0.00</td>\n",
       "      <td>0.00</td>\n",
       "      <td>0.00</td>\n",
       "      <td>0.00</td>\n",
       "      <td>0.00</td>\n",
       "      <td>...</td>\n",
       "      <td>0.00</td>\n",
       "      <td>0.00</td>\n",
       "      <td>0.00</td>\n",
       "      <td>0.00</td>\n",
       "      <td>0.00</td>\n",
       "      <td>0.42</td>\n",
       "      <td>0.22</td>\n",
       "      <td>0.59</td>\n",
       "      <td>0.00</td>\n",
       "      <td>0.00</td>\n",
       "    </tr>\n",
       "  </tbody>\n",
       "</table>\n",
       "<p>5 rows × 2730 columns</p>\n",
       "</div>"
      ],
      "text/plain": [
       "             abate  abhorred  abide  able  able discharge  abroad  absent  \\\n",
       "component_1   0.11      0.09   0.00  0.09            0.00    0.10    0.00   \n",
       "component_2   0.00      0.00   0.00  0.07            0.00    0.07    0.00   \n",
       "component_3   0.04      0.04   0.14  0.11            0.09    0.07    0.12   \n",
       "component_4   0.00      0.00   0.01  0.07            0.00    0.01    0.00   \n",
       "component_5   0.00      0.00   0.00  0.00            0.00    0.00    0.00   \n",
       "\n",
       "             absolute  abusd  abuse  ...   yew  yond  yong  youl  youl finde  \\\n",
       "component_1      0.00   0.10   0.00  ...  0.19  0.18  0.00  0.00        0.00   \n",
       "component_2      0.00   0.00   0.07  ...  0.00  0.00  0.68  0.32        0.13   \n",
       "component_3      0.06   0.00   0.00  ...  0.06  0.00  0.44  0.19        0.00   \n",
       "component_4      0.06   0.08   0.09  ...  0.00  0.31  0.00  0.00        0.00   \n",
       "component_5      0.00   0.00   0.00  ...  0.00  0.00  0.00  0.00        0.00   \n",
       "\n",
       "             youll  young  youth  youthe  youthful  \n",
       "component_1   0.06   0.09   0.35    0.00      0.11  \n",
       "component_2   0.00   0.06   0.10    0.07      0.00  \n",
       "component_3   0.00   0.25   0.20    0.00      0.04  \n",
       "component_4   0.02   0.05   0.03    0.08      0.00  \n",
       "component_5   0.42   0.22   0.59    0.00      0.00  \n",
       "\n",
       "[5 rows x 2730 columns]"
      ]
     },
     "execution_count": 64,
     "metadata": {},
     "output_type": "execute_result"
    }
   ],
   "source": [
    "topic_word_LAST"
   ]
  },
  {
   "cell_type": "code",
   "execution_count": 65,
   "metadata": {},
   "outputs": [
    {
     "name": "stdout",
     "output_type": "stream",
     "text": [
      "\n",
      "Topic  0\n",
      "love, ben, mer, night, ill, lady, fair, wife, wilt, sweet, god, word, light, speak, gone\n",
      "\n",
      "Topic  1\n",
      "fool, father, ill, corn, king, speak, love, poor, nature, night, daughter, france, regan, duke, osw\n",
      "\n",
      "Topic  2\n",
      "goe, faire, looke, selfe, speake, neuer, night, thinke, againe, lady, exeunt, daughter, owne, cosen, heare\n",
      "\n",
      "Topic  3\n",
      "pope, conj, hanmer, sea, om, king, monster, speak, island, collier, johnson, om pope, master, collier ms, ms\n",
      "\n",
      "Topic  4\n",
      "love, touchstone, duke, ill, corin, world, father, frederick, young, better, youth, brother, forest, little, think\n"
     ]
    }
   ],
   "source": [
    "display_topics(nmf_model_FIRST, count_vectorizer_FIRST.get_feature_names(), 15)"
   ]
  },
  {
   "cell_type": "code",
   "execution_count": 66,
   "metadata": {},
   "outputs": [
    {
     "name": "stdout",
     "output_type": "stream",
     "text": [
      "\n",
      "Topic  0\n",
      "friar, dead, ill, night, par, love, watch, lady, mus, mother, help, prince, look, wife, county\n",
      "\n",
      "Topic  1\n",
      "daughter, iailor, wooer, doctor, friend, love, goe, faire, thinke, em, brother, gods, exeunt, messenger, knight\n",
      "\n",
      "Topic  2\n",
      "iew, wife, ring, selfe, night, feare, neuer, heare, moone, macbeth, poore, speake, doctor, leaue, flesh\n",
      "\n",
      "Topic  3\n",
      "alb, ill, madam, father, cor, king, old, exit, poor, edgar, look, dead, speak, hear, cordelia\n",
      "\n",
      "Topic  4\n",
      "love, duke, woman, morrow, brother, god, heart, marry, lie, ill, faith, hey, forest, word, shepherd\n"
     ]
    }
   ],
   "source": [
    "display_topics(nmf_model_LAST, count_vectorizer_LAST.get_feature_names(), 15)"
   ]
  },
  {
   "cell_type": "code",
   "execution_count": null,
   "metadata": {},
   "outputs": [],
   "source": []
  },
  {
   "cell_type": "markdown",
   "metadata": {},
   "source": [
    "# Sentiment Analysis"
   ]
  },
  {
   "cell_type": "markdown",
   "metadata": {},
   "source": [
    "### Across act progression"
   ]
  },
  {
   "cell_type": "code",
   "execution_count": 73,
   "metadata": {},
   "outputs": [],
   "source": [
    "pol = lambda x: TextBlob(x).sentiment.polarity\n",
    "sub = lambda x: TextBlob(x).sentiment.subjectivity"
   ]
  },
  {
   "cell_type": "code",
   "execution_count": null,
   "metadata": {},
   "outputs": [],
   "source": []
  },
  {
   "cell_type": "code",
   "execution_count": 74,
   "metadata": {},
   "outputs": [],
   "source": [
    "first_acts_polarities = []\n",
    "for act in first_acts_names:\n",
    "    first_acts_polarities.append(pol(act['Text']))"
   ]
  },
  {
   "cell_type": "code",
   "execution_count": 78,
   "metadata": {},
   "outputs": [
    {
     "data": {
      "text/plain": [
       "0.1599899840023092"
      ]
     },
     "execution_count": 78,
     "metadata": {},
     "output_type": "execute_result"
    }
   ],
   "source": [
    "np.mean(first_acts_polarities)"
   ]
  },
  {
   "cell_type": "code",
   "execution_count": 76,
   "metadata": {},
   "outputs": [],
   "source": [
    "last_acts_polarities = []\n",
    "for act in last_acts_names:\n",
    "    last_acts_polarities.append(pol(act['Text']))"
   ]
  },
  {
   "cell_type": "code",
   "execution_count": 79,
   "metadata": {},
   "outputs": [
    {
     "data": {
      "text/plain": [
       "0.1701331982617511"
      ]
     },
     "execution_count": 79,
     "metadata": {},
     "output_type": "execute_result"
    }
   ],
   "source": [
    "np.mean(last_acts_polarities)"
   ]
  },
  {
   "cell_type": "code",
   "execution_count": null,
   "metadata": {},
   "outputs": [],
   "source": []
  },
  {
   "cell_type": "markdown",
   "metadata": {},
   "source": [
    "### Sentiment analysis across genre"
   ]
  },
  {
   "cell_type": "code",
   "execution_count": 82,
   "metadata": {},
   "outputs": [],
   "source": [
    "tragedy_polarities = []\n",
    "comedy_polarities = []\n",
    "\n",
    "for act in all_acts:\n",
    "    if act['Title'] in tragedy_names:\n",
    "        tragedy_polarities.append(pol(act['Text']))\n",
    "    else:\n",
    "        comedy_polarities.append(pol(act['Text']))"
   ]
  },
  {
   "cell_type": "code",
   "execution_count": 85,
   "metadata": {},
   "outputs": [
    {
     "name": "stdout",
     "output_type": "stream",
     "text": [
      "0.13464923182167496\n",
      "0.19770653292101398\n"
     ]
    }
   ],
   "source": [
    "print(np.mean(tragedy_polarities))\n",
    "print(np.mean(comedy_polarities))"
   ]
  },
  {
   "cell_type": "code",
   "execution_count": null,
   "metadata": {},
   "outputs": [],
   "source": []
  },
  {
   "cell_type": "markdown",
   "metadata": {},
   "source": [
    "### sentiment analysis by career progression"
   ]
  },
  {
   "cell_type": "code",
   "execution_count": 87,
   "metadata": {},
   "outputs": [],
   "source": [
    "early_polarities = []\n",
    "later_polarities = []\n",
    "\n",
    "for act in all_acts:\n",
    "    if act['Title'] in early_career_play_names:\n",
    "        early_polarities.append(pol(act['Text']))\n",
    "    else:\n",
    "        later_polarities.append(pol(act['Text']))"
   ]
  },
  {
   "cell_type": "code",
   "execution_count": 90,
   "metadata": {},
   "outputs": [
    {
     "data": {
      "text/plain": [
       "0.16425231974816076"
      ]
     },
     "execution_count": 90,
     "metadata": {},
     "output_type": "execute_result"
    }
   ],
   "source": [
    "np.mean(early_polarities)"
   ]
  },
  {
   "cell_type": "code",
   "execution_count": 91,
   "metadata": {},
   "outputs": [
    {
     "data": {
      "text/plain": [
       "0.16530033910547703"
      ]
     },
     "execution_count": 91,
     "metadata": {},
     "output_type": "execute_result"
    }
   ],
   "source": [
    "np.mean(later_polarities)"
   ]
  },
  {
   "cell_type": "code",
   "execution_count": null,
   "metadata": {},
   "outputs": [],
   "source": []
  },
  {
   "cell_type": "code",
   "execution_count": 242,
   "metadata": {},
   "outputs": [],
   "source": [
    "first_polarities = []\n",
    "last_polarities = []\n",
    "\n",
    "for act in first_acts_names:\n",
    "    first_polarities.append(pol(act['Text']))\n",
    "\n",
    "for act in last_acts_names:\n",
    "    last_polarities.append(pol(act['Text']))"
   ]
  },
  {
   "cell_type": "code",
   "execution_count": 244,
   "metadata": {},
   "outputs": [
    {
     "data": {
      "text/plain": [
       "0.1599899840023092"
      ]
     },
     "execution_count": 244,
     "metadata": {},
     "output_type": "execute_result"
    }
   ],
   "source": [
    "np.mean(first_polarities)"
   ]
  },
  {
   "cell_type": "code",
   "execution_count": 245,
   "metadata": {},
   "outputs": [
    {
     "data": {
      "text/plain": [
       "0.1701331982617511"
      ]
     },
     "execution_count": 245,
     "metadata": {},
     "output_type": "execute_result"
    }
   ],
   "source": [
    "np.mean(last_polarities)"
   ]
  },
  {
   "cell_type": "code",
   "execution_count": null,
   "metadata": {},
   "outputs": [],
   "source": []
  },
  {
   "cell_type": "code",
   "execution_count": null,
   "metadata": {},
   "outputs": [],
   "source": []
  },
  {
   "cell_type": "code",
   "execution_count": null,
   "metadata": {},
   "outputs": [],
   "source": []
  },
  {
   "cell_type": "code",
   "execution_count": null,
   "metadata": {},
   "outputs": [],
   "source": []
  },
  {
   "cell_type": "code",
   "execution_count": 96,
   "metadata": {},
   "outputs": [
    {
     "name": "stdout",
     "output_type": "stream",
     "text": [
      "0  Romeo & Juliet        Act: 1\n",
      "1  Romeo & Juliet        Act: 2\n",
      "2  Romeo & Juliet        Act: 3\n",
      "3  Romeo & Juliet        Act: 4\n",
      "4  Romeo & Juliet        Act: 5\n",
      "5  Hamlet        Act: 1\n",
      "6  Hamlet        Act: 2\n",
      "7  King Lear        Act: 1\n",
      "8  King Lear        Act: 2\n",
      "9  King Lear        Act: 3\n",
      "10  King Lear        Act: 4\n",
      "11  King Lear        Act: 5\n",
      "12  Merchant of Venice        Act: 1\n",
      "13  Merchant of Venice        Act: 2\n",
      "14  Merchant of Venice        Act: 3\n",
      "15  Merchant of Venice        Act: 4\n",
      "16  Merchant of Venice        Act: 5\n",
      "17  Midsummer Nights Dream        Act: 1\n",
      "18  Midsummer Nights Dream        Act: 2\n",
      "19  Midsummer Nights Dream        Act: 3\n",
      "20  Midsummer Nights Dream        Act: 4\n",
      "21  Midsummer Nights Dream        Act: 5\n",
      "22  The Tempest        Act: 1\n",
      "23  The Tempest        Act: 2\n",
      "24  The Tempest        Act: 3\n",
      "25  The Tempest        Act: 4\n",
      "26  The Tempest        Act: 5\n",
      "27  Two Noble Kinsmen        Act: 1\n",
      "28  Two Noble Kinsmen        Act: 2\n",
      "29  Two Noble Kinsmen        Act: 3\n",
      "30  Two Noble Kinsmen        Act: 4\n",
      "31  Two Noble Kinsmen        Act: 5\n",
      "32  Macbeth        Act: 1\n",
      "33  Macbeth        Act: 2\n",
      "34  Macbeth        Act: 3\n",
      "35  Macbeth        Act: 4\n",
      "36  Macbeth        Act: 5\n",
      "37  As You Like It        Act: 1\n",
      "38  As You Like It        Act: 2\n",
      "39  As You Like It        Act: 3\n",
      "40  As You Like It        Act: 4\n",
      "41  As You Like It        Act: 5\n"
     ]
    }
   ],
   "source": [
    "for i, act in enumerate(all_acts):\n",
    "    print(str(i) + \"  \" + act['Title'] + \"       \" + \" Act: \" + act['Act'])"
   ]
  },
  {
   "cell_type": "code",
   "execution_count": 140,
   "metadata": {},
   "outputs": [],
   "source": [
    "roju_ind = [0, 1, 2, 3, 4]\n",
    "hamlet_ind = [5,6]\n",
    "king_lear_ind = [7, 8, 9, 10, 11]\n",
    "merchantvenice_ind = [12, 13, 14, 15, 16]\n",
    "midsummer_ind = [17, 18, 19, 20, 21]\n",
    "tempest_ind = [22, 23, 24, 25, 26]\n",
    "kinsmen_ind = [27, 28, 29, 30, 31]\n",
    "macbeth_ind = [32, 33, 34, 35, 36]\n",
    "asyoulikeit_ind = [37, 38, 39, 40, 41]"
   ]
  },
  {
   "cell_type": "code",
   "execution_count": null,
   "metadata": {},
   "outputs": [],
   "source": []
  }
 ],
 "metadata": {
  "kernelspec": {
   "display_name": "Python [conda env:metis] *",
   "language": "python",
   "name": "conda-env-metis-py"
  },
  "language_info": {
   "codemirror_mode": {
    "name": "ipython",
    "version": 3
   },
   "file_extension": ".py",
   "mimetype": "text/x-python",
   "name": "python",
   "nbconvert_exporter": "python",
   "pygments_lexer": "ipython3",
   "version": "3.6.8"
  },
  "toc": {
   "base_numbering": 1,
   "nav_menu": {},
   "number_sections": true,
   "sideBar": true,
   "skip_h1_title": false,
   "title_cell": "Table of Contents",
   "title_sidebar": "Contents",
   "toc_cell": false,
   "toc_position": {},
   "toc_section_display": true,
   "toc_window_display": false
  },
  "varInspector": {
   "cols": {
    "lenName": 16,
    "lenType": 16,
    "lenVar": 40
   },
   "kernels_config": {
    "python": {
     "delete_cmd_postfix": "",
     "delete_cmd_prefix": "del ",
     "library": "var_list.py",
     "varRefreshCmd": "print(var_dic_list())"
    },
    "r": {
     "delete_cmd_postfix": ") ",
     "delete_cmd_prefix": "rm(",
     "library": "var_list.r",
     "varRefreshCmd": "cat(var_dic_list()) "
    }
   },
   "types_to_exclude": [
    "module",
    "function",
    "builtin_function_or_method",
    "instance",
    "_Feature"
   ],
   "window_display": false
  }
 },
 "nbformat": 4,
 "nbformat_minor": 2
}
